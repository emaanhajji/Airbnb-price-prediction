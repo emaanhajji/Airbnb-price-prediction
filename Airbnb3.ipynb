{
 "cells": [
  {
   "cell_type": "code",
   "execution_count": 1,
   "metadata": {},
   "outputs": [],
   "source": [
    "import numpy as np \n",
    "import pandas as pd \n",
    "import seaborn as sns\n",
    "import matplotlib.pyplot as plt\n",
    "from statsmodels.graphics.gofplots import qqplot\n",
    "import plotly.express as px\n",
    "from sklearn.model_selection import train_test_split, GridSearchCV\n",
    "\n",
    "%config InlineBackend.figure_format = \"svg\""
   ]
  },
  {
   "cell_type": "code",
   "execution_count": 2,
   "metadata": {},
   "outputs": [],
   "source": [
    "data = pd.read_csv(\"train.csv\")"
   ]
  },
  {
   "cell_type": "code",
   "execution_count": 3,
   "metadata": {
    "scrolled": true
   },
   "outputs": [
    {
     "data": {
      "text/html": [
       "<div>\n",
       "<style scoped>\n",
       "    .dataframe tbody tr th:only-of-type {\n",
       "        vertical-align: middle;\n",
       "    }\n",
       "\n",
       "    .dataframe tbody tr th {\n",
       "        vertical-align: top;\n",
       "    }\n",
       "\n",
       "    .dataframe thead th {\n",
       "        text-align: right;\n",
       "    }\n",
       "</style>\n",
       "<table border=\"1\" class=\"dataframe\">\n",
       "  <thead>\n",
       "    <tr style=\"text-align: right;\">\n",
       "      <th></th>\n",
       "      <th>id</th>\n",
       "      <th>log_price</th>\n",
       "      <th>property_type</th>\n",
       "      <th>room_type</th>\n",
       "      <th>amenities</th>\n",
       "      <th>accommodates</th>\n",
       "      <th>bathrooms</th>\n",
       "      <th>bed_type</th>\n",
       "      <th>cancellation_policy</th>\n",
       "      <th>cleaning_fee</th>\n",
       "      <th>...</th>\n",
       "      <th>latitude</th>\n",
       "      <th>longitude</th>\n",
       "      <th>name</th>\n",
       "      <th>neighbourhood</th>\n",
       "      <th>number_of_reviews</th>\n",
       "      <th>review_scores_rating</th>\n",
       "      <th>thumbnail_url</th>\n",
       "      <th>zipcode</th>\n",
       "      <th>bedrooms</th>\n",
       "      <th>beds</th>\n",
       "    </tr>\n",
       "  </thead>\n",
       "  <tbody>\n",
       "    <tr>\n",
       "      <th>0</th>\n",
       "      <td>6901257</td>\n",
       "      <td>5.010635</td>\n",
       "      <td>Apartment</td>\n",
       "      <td>Entire home/apt</td>\n",
       "      <td>{\"Wireless Internet\",\"Air conditioning\",Kitche...</td>\n",
       "      <td>3</td>\n",
       "      <td>1.0</td>\n",
       "      <td>Real Bed</td>\n",
       "      <td>strict</td>\n",
       "      <td>True</td>\n",
       "      <td>...</td>\n",
       "      <td>40.696524</td>\n",
       "      <td>-73.991617</td>\n",
       "      <td>Beautiful brownstone 1-bedroom</td>\n",
       "      <td>Brooklyn Heights</td>\n",
       "      <td>2</td>\n",
       "      <td>100.0</td>\n",
       "      <td>https://a0.muscache.com/im/pictures/6d7cbbf7-c...</td>\n",
       "      <td>11201</td>\n",
       "      <td>1.0</td>\n",
       "      <td>1.0</td>\n",
       "    </tr>\n",
       "    <tr>\n",
       "      <th>1</th>\n",
       "      <td>6304928</td>\n",
       "      <td>5.129899</td>\n",
       "      <td>Apartment</td>\n",
       "      <td>Entire home/apt</td>\n",
       "      <td>{\"Wireless Internet\",\"Air conditioning\",Kitche...</td>\n",
       "      <td>7</td>\n",
       "      <td>1.0</td>\n",
       "      <td>Real Bed</td>\n",
       "      <td>strict</td>\n",
       "      <td>True</td>\n",
       "      <td>...</td>\n",
       "      <td>40.766115</td>\n",
       "      <td>-73.989040</td>\n",
       "      <td>Superb 3BR Apt Located Near Times Square</td>\n",
       "      <td>Hell's Kitchen</td>\n",
       "      <td>6</td>\n",
       "      <td>93.0</td>\n",
       "      <td>https://a0.muscache.com/im/pictures/348a55fe-4...</td>\n",
       "      <td>10019</td>\n",
       "      <td>3.0</td>\n",
       "      <td>3.0</td>\n",
       "    </tr>\n",
       "    <tr>\n",
       "      <th>2</th>\n",
       "      <td>7919400</td>\n",
       "      <td>4.976734</td>\n",
       "      <td>Apartment</td>\n",
       "      <td>Entire home/apt</td>\n",
       "      <td>{TV,\"Cable TV\",\"Wireless Internet\",\"Air condit...</td>\n",
       "      <td>5</td>\n",
       "      <td>1.0</td>\n",
       "      <td>Real Bed</td>\n",
       "      <td>moderate</td>\n",
       "      <td>True</td>\n",
       "      <td>...</td>\n",
       "      <td>40.808110</td>\n",
       "      <td>-73.943756</td>\n",
       "      <td>The Garden Oasis</td>\n",
       "      <td>Harlem</td>\n",
       "      <td>10</td>\n",
       "      <td>92.0</td>\n",
       "      <td>https://a0.muscache.com/im/pictures/6fae5362-9...</td>\n",
       "      <td>10027</td>\n",
       "      <td>1.0</td>\n",
       "      <td>3.0</td>\n",
       "    </tr>\n",
       "    <tr>\n",
       "      <th>3</th>\n",
       "      <td>13418779</td>\n",
       "      <td>6.620073</td>\n",
       "      <td>House</td>\n",
       "      <td>Entire home/apt</td>\n",
       "      <td>{TV,\"Cable TV\",Internet,\"Wireless Internet\",Ki...</td>\n",
       "      <td>4</td>\n",
       "      <td>1.0</td>\n",
       "      <td>Real Bed</td>\n",
       "      <td>flexible</td>\n",
       "      <td>True</td>\n",
       "      <td>...</td>\n",
       "      <td>37.772004</td>\n",
       "      <td>-122.431619</td>\n",
       "      <td>Beautiful Flat in the Heart of SF!</td>\n",
       "      <td>Lower Haight</td>\n",
       "      <td>0</td>\n",
       "      <td>NaN</td>\n",
       "      <td>https://a0.muscache.com/im/pictures/72208dad-9...</td>\n",
       "      <td>94117</td>\n",
       "      <td>2.0</td>\n",
       "      <td>2.0</td>\n",
       "    </tr>\n",
       "    <tr>\n",
       "      <th>4</th>\n",
       "      <td>3808709</td>\n",
       "      <td>4.744932</td>\n",
       "      <td>Apartment</td>\n",
       "      <td>Entire home/apt</td>\n",
       "      <td>{TV,Internet,\"Wireless Internet\",\"Air conditio...</td>\n",
       "      <td>2</td>\n",
       "      <td>1.0</td>\n",
       "      <td>Real Bed</td>\n",
       "      <td>moderate</td>\n",
       "      <td>True</td>\n",
       "      <td>...</td>\n",
       "      <td>38.925627</td>\n",
       "      <td>-77.034596</td>\n",
       "      <td>Great studio in midtown DC</td>\n",
       "      <td>Columbia Heights</td>\n",
       "      <td>4</td>\n",
       "      <td>40.0</td>\n",
       "      <td>NaN</td>\n",
       "      <td>20009</td>\n",
       "      <td>0.0</td>\n",
       "      <td>1.0</td>\n",
       "    </tr>\n",
       "  </tbody>\n",
       "</table>\n",
       "<p>5 rows × 29 columns</p>\n",
       "</div>"
      ],
      "text/plain": [
       "         id  log_price property_type        room_type  \\\n",
       "0   6901257   5.010635     Apartment  Entire home/apt   \n",
       "1   6304928   5.129899     Apartment  Entire home/apt   \n",
       "2   7919400   4.976734     Apartment  Entire home/apt   \n",
       "3  13418779   6.620073         House  Entire home/apt   \n",
       "4   3808709   4.744932     Apartment  Entire home/apt   \n",
       "\n",
       "                                           amenities  accommodates  bathrooms  \\\n",
       "0  {\"Wireless Internet\",\"Air conditioning\",Kitche...             3        1.0   \n",
       "1  {\"Wireless Internet\",\"Air conditioning\",Kitche...             7        1.0   \n",
       "2  {TV,\"Cable TV\",\"Wireless Internet\",\"Air condit...             5        1.0   \n",
       "3  {TV,\"Cable TV\",Internet,\"Wireless Internet\",Ki...             4        1.0   \n",
       "4  {TV,Internet,\"Wireless Internet\",\"Air conditio...             2        1.0   \n",
       "\n",
       "   bed_type cancellation_policy  cleaning_fee  ...   latitude   longitude  \\\n",
       "0  Real Bed              strict          True  ...  40.696524  -73.991617   \n",
       "1  Real Bed              strict          True  ...  40.766115  -73.989040   \n",
       "2  Real Bed            moderate          True  ...  40.808110  -73.943756   \n",
       "3  Real Bed            flexible          True  ...  37.772004 -122.431619   \n",
       "4  Real Bed            moderate          True  ...  38.925627  -77.034596   \n",
       "\n",
       "                                       name     neighbourhood  \\\n",
       "0            Beautiful brownstone 1-bedroom  Brooklyn Heights   \n",
       "1  Superb 3BR Apt Located Near Times Square    Hell's Kitchen   \n",
       "2                          The Garden Oasis            Harlem   \n",
       "3        Beautiful Flat in the Heart of SF!      Lower Haight   \n",
       "4                Great studio in midtown DC  Columbia Heights   \n",
       "\n",
       "  number_of_reviews review_scores_rating  \\\n",
       "0                 2                100.0   \n",
       "1                 6                 93.0   \n",
       "2                10                 92.0   \n",
       "3                 0                  NaN   \n",
       "4                 4                 40.0   \n",
       "\n",
       "                                       thumbnail_url zipcode bedrooms  beds  \n",
       "0  https://a0.muscache.com/im/pictures/6d7cbbf7-c...   11201      1.0   1.0  \n",
       "1  https://a0.muscache.com/im/pictures/348a55fe-4...   10019      3.0   3.0  \n",
       "2  https://a0.muscache.com/im/pictures/6fae5362-9...   10027      1.0   3.0  \n",
       "3  https://a0.muscache.com/im/pictures/72208dad-9...   94117      2.0   2.0  \n",
       "4                                                NaN   20009      0.0   1.0  \n",
       "\n",
       "[5 rows x 29 columns]"
      ]
     },
     "execution_count": 3,
     "metadata": {},
     "output_type": "execute_result"
    }
   ],
   "source": [
    "data.head()"
   ]
  },
  {
   "cell_type": "code",
   "execution_count": 4,
   "metadata": {},
   "outputs": [
    {
     "data": {
      "text/plain": [
       "(74111, 29)"
      ]
     },
     "execution_count": 4,
     "metadata": {},
     "output_type": "execute_result"
    }
   ],
   "source": [
    "data.shape"
   ]
  },
  {
   "cell_type": "code",
   "execution_count": 5,
   "metadata": {},
   "outputs": [],
   "source": [
    "df, validation_df  = train_test_split(data,\n",
    "                               test_size=0.25,\n",
    "                               random_state = 101)"
   ]
  },
  {
   "cell_type": "code",
   "execution_count": 6,
   "metadata": {},
   "outputs": [],
   "source": [
    "df_train, df_test  = train_test_split(df,\n",
    "                               test_size=0.25,\n",
    "                               random_state = 101)"
   ]
  },
  {
   "cell_type": "markdown",
   "metadata": {},
   "source": [
    "# info"
   ]
  },
  {
   "cell_type": "code",
   "execution_count": 7,
   "metadata": {},
   "outputs": [
    {
     "name": "stdout",
     "output_type": "stream",
     "text": [
      "<class 'pandas.core.frame.DataFrame'>\n",
      "Int64Index: 13896 entries, 4281 to 51739\n",
      "Data columns (total 29 columns):\n",
      " #   Column                  Non-Null Count  Dtype  \n",
      "---  ------                  --------------  -----  \n",
      " 0   id                      13896 non-null  int64  \n",
      " 1   log_price               13896 non-null  float64\n",
      " 2   property_type           13896 non-null  object \n",
      " 3   room_type               13896 non-null  object \n",
      " 4   amenities               13896 non-null  object \n",
      " 5   accommodates            13896 non-null  int64  \n",
      " 6   bathrooms               13860 non-null  float64\n",
      " 7   bed_type                13896 non-null  object \n",
      " 8   cancellation_policy     13896 non-null  object \n",
      " 9   cleaning_fee            13896 non-null  bool   \n",
      " 10  city                    13896 non-null  object \n",
      " 11  description             13896 non-null  object \n",
      " 12  first_review            11006 non-null  object \n",
      " 13  host_has_profile_pic    13867 non-null  object \n",
      " 14  host_identity_verified  13867 non-null  object \n",
      " 15  host_response_rate      10508 non-null  object \n",
      " 16  host_since              13867 non-null  object \n",
      " 17  instant_bookable        13896 non-null  object \n",
      " 18  last_review             11014 non-null  object \n",
      " 19  latitude                13896 non-null  float64\n",
      " 20  longitude               13896 non-null  float64\n",
      " 21  name                    13896 non-null  object \n",
      " 22  neighbourhood           12596 non-null  object \n",
      " 23  number_of_reviews       13896 non-null  int64  \n",
      " 24  review_scores_rating    10850 non-null  float64\n",
      " 25  thumbnail_url           12347 non-null  object \n",
      " 26  zipcode                 13710 non-null  object \n",
      " 27  bedrooms                13873 non-null  float64\n",
      " 28  beds                    13866 non-null  float64\n",
      "dtypes: bool(1), float64(7), int64(3), object(18)\n",
      "memory usage: 3.1+ MB\n"
     ]
    }
   ],
   "source": [
    "df_test.info()"
   ]
  },
  {
   "cell_type": "markdown",
   "metadata": {},
   "source": [
    "# Finding missing values"
   ]
  },
  {
   "cell_type": "code",
   "execution_count": 8,
   "metadata": {},
   "outputs": [
    {
     "data": {
      "text/plain": [
       "id                           0\n",
       "log_price                    0\n",
       "property_type                0\n",
       "room_type                    0\n",
       "amenities                    0\n",
       "accommodates                 0\n",
       "bathrooms                   36\n",
       "bed_type                     0\n",
       "cancellation_policy          0\n",
       "cleaning_fee                 0\n",
       "city                         0\n",
       "description                  0\n",
       "first_review              2890\n",
       "host_has_profile_pic        29\n",
       "host_identity_verified      29\n",
       "host_response_rate        3388\n",
       "host_since                  29\n",
       "instant_bookable             0\n",
       "last_review               2882\n",
       "latitude                     0\n",
       "longitude                    0\n",
       "name                         0\n",
       "neighbourhood             1300\n",
       "number_of_reviews            0\n",
       "review_scores_rating      3046\n",
       "thumbnail_url             1549\n",
       "zipcode                    186\n",
       "bedrooms                    23\n",
       "beds                        30\n",
       "dtype: int64"
      ]
     },
     "execution_count": 8,
     "metadata": {},
     "output_type": "execute_result"
    }
   ],
   "source": [
    "df_test.isnull().sum()"
   ]
  },
  {
   "cell_type": "markdown",
   "metadata": {},
   "source": [
    "# Correlation"
   ]
  },
  {
   "cell_type": "code",
   "execution_count": 9,
   "metadata": {},
   "outputs": [
    {
     "data": {
      "text/html": [
       "<div>\n",
       "<style scoped>\n",
       "    .dataframe tbody tr th:only-of-type {\n",
       "        vertical-align: middle;\n",
       "    }\n",
       "\n",
       "    .dataframe tbody tr th {\n",
       "        vertical-align: top;\n",
       "    }\n",
       "\n",
       "    .dataframe thead th {\n",
       "        text-align: right;\n",
       "    }\n",
       "</style>\n",
       "<table border=\"1\" class=\"dataframe\">\n",
       "  <thead>\n",
       "    <tr style=\"text-align: right;\">\n",
       "      <th></th>\n",
       "      <th>id</th>\n",
       "      <th>log_price</th>\n",
       "      <th>accommodates</th>\n",
       "      <th>bathrooms</th>\n",
       "      <th>cleaning_fee</th>\n",
       "      <th>latitude</th>\n",
       "      <th>longitude</th>\n",
       "      <th>number_of_reviews</th>\n",
       "      <th>review_scores_rating</th>\n",
       "      <th>bedrooms</th>\n",
       "      <th>beds</th>\n",
       "    </tr>\n",
       "  </thead>\n",
       "  <tbody>\n",
       "    <tr>\n",
       "      <th>id</th>\n",
       "      <td>1.000000</td>\n",
       "      <td>-0.011693</td>\n",
       "      <td>-0.000050</td>\n",
       "      <td>-0.007740</td>\n",
       "      <td>0.003730</td>\n",
       "      <td>0.006692</td>\n",
       "      <td>0.011101</td>\n",
       "      <td>-0.005410</td>\n",
       "      <td>0.006822</td>\n",
       "      <td>0.001691</td>\n",
       "      <td>-0.002001</td>\n",
       "    </tr>\n",
       "    <tr>\n",
       "      <th>log_price</th>\n",
       "      <td>-0.011693</td>\n",
       "      <td>1.000000</td>\n",
       "      <td>0.565343</td>\n",
       "      <td>0.347248</td>\n",
       "      <td>0.121777</td>\n",
       "      <td>0.003362</td>\n",
       "      <td>-0.043250</td>\n",
       "      <td>-0.031786</td>\n",
       "      <td>0.093349</td>\n",
       "      <td>0.484767</td>\n",
       "      <td>0.452548</td>\n",
       "    </tr>\n",
       "    <tr>\n",
       "      <th>accommodates</th>\n",
       "      <td>-0.000050</td>\n",
       "      <td>0.565343</td>\n",
       "      <td>1.000000</td>\n",
       "      <td>0.490884</td>\n",
       "      <td>0.188950</td>\n",
       "      <td>-0.073857</td>\n",
       "      <td>-0.080260</td>\n",
       "      <td>0.037285</td>\n",
       "      <td>-0.012337</td>\n",
       "      <td>0.701503</td>\n",
       "      <td>0.811189</td>\n",
       "    </tr>\n",
       "    <tr>\n",
       "      <th>bathrooms</th>\n",
       "      <td>-0.007740</td>\n",
       "      <td>0.347248</td>\n",
       "      <td>0.490884</td>\n",
       "      <td>1.000000</td>\n",
       "      <td>0.053514</td>\n",
       "      <td>-0.127524</td>\n",
       "      <td>-0.125467</td>\n",
       "      <td>-0.046195</td>\n",
       "      <td>0.011151</td>\n",
       "      <td>0.578114</td>\n",
       "      <td>0.517307</td>\n",
       "    </tr>\n",
       "    <tr>\n",
       "      <th>cleaning_fee</th>\n",
       "      <td>0.003730</td>\n",
       "      <td>0.121777</td>\n",
       "      <td>0.188950</td>\n",
       "      <td>0.053514</td>\n",
       "      <td>1.000000</td>\n",
       "      <td>-0.065813</td>\n",
       "      <td>-0.074338</td>\n",
       "      <td>0.112034</td>\n",
       "      <td>0.037779</td>\n",
       "      <td>0.114016</td>\n",
       "      <td>0.143235</td>\n",
       "    </tr>\n",
       "    <tr>\n",
       "      <th>latitude</th>\n",
       "      <td>0.006692</td>\n",
       "      <td>0.003362</td>\n",
       "      <td>-0.073857</td>\n",
       "      <td>-0.127524</td>\n",
       "      <td>-0.065813</td>\n",
       "      <td>1.000000</td>\n",
       "      <td>0.896456</td>\n",
       "      <td>-0.018672</td>\n",
       "      <td>-0.040265</td>\n",
       "      <td>-0.059292</td>\n",
       "      <td>-0.083189</td>\n",
       "    </tr>\n",
       "    <tr>\n",
       "      <th>longitude</th>\n",
       "      <td>0.011101</td>\n",
       "      <td>-0.043250</td>\n",
       "      <td>-0.080260</td>\n",
       "      <td>-0.125467</td>\n",
       "      <td>-0.074338</td>\n",
       "      <td>0.896456</td>\n",
       "      <td>1.000000</td>\n",
       "      <td>-0.047175</td>\n",
       "      <td>-0.054929</td>\n",
       "      <td>-0.073124</td>\n",
       "      <td>-0.080780</td>\n",
       "    </tr>\n",
       "    <tr>\n",
       "      <th>number_of_reviews</th>\n",
       "      <td>-0.005410</td>\n",
       "      <td>-0.031786</td>\n",
       "      <td>0.037285</td>\n",
       "      <td>-0.046195</td>\n",
       "      <td>0.112034</td>\n",
       "      <td>-0.018672</td>\n",
       "      <td>-0.047175</td>\n",
       "      <td>1.000000</td>\n",
       "      <td>0.016425</td>\n",
       "      <td>-0.038856</td>\n",
       "      <td>0.030966</td>\n",
       "    </tr>\n",
       "    <tr>\n",
       "      <th>review_scores_rating</th>\n",
       "      <td>0.006822</td>\n",
       "      <td>0.093349</td>\n",
       "      <td>-0.012337</td>\n",
       "      <td>0.011151</td>\n",
       "      <td>0.037779</td>\n",
       "      <td>-0.040265</td>\n",
       "      <td>-0.054929</td>\n",
       "      <td>0.016425</td>\n",
       "      <td>1.000000</td>\n",
       "      <td>0.021525</td>\n",
       "      <td>-0.022357</td>\n",
       "    </tr>\n",
       "    <tr>\n",
       "      <th>bedrooms</th>\n",
       "      <td>0.001691</td>\n",
       "      <td>0.484767</td>\n",
       "      <td>0.701503</td>\n",
       "      <td>0.578114</td>\n",
       "      <td>0.114016</td>\n",
       "      <td>-0.059292</td>\n",
       "      <td>-0.073124</td>\n",
       "      <td>-0.038856</td>\n",
       "      <td>0.021525</td>\n",
       "      <td>1.000000</td>\n",
       "      <td>0.707111</td>\n",
       "    </tr>\n",
       "    <tr>\n",
       "      <th>beds</th>\n",
       "      <td>-0.002001</td>\n",
       "      <td>0.452548</td>\n",
       "      <td>0.811189</td>\n",
       "      <td>0.517307</td>\n",
       "      <td>0.143235</td>\n",
       "      <td>-0.083189</td>\n",
       "      <td>-0.080780</td>\n",
       "      <td>0.030966</td>\n",
       "      <td>-0.022357</td>\n",
       "      <td>0.707111</td>\n",
       "      <td>1.000000</td>\n",
       "    </tr>\n",
       "  </tbody>\n",
       "</table>\n",
       "</div>"
      ],
      "text/plain": [
       "                            id  log_price  accommodates  bathrooms  \\\n",
       "id                    1.000000  -0.011693     -0.000050  -0.007740   \n",
       "log_price            -0.011693   1.000000      0.565343   0.347248   \n",
       "accommodates         -0.000050   0.565343      1.000000   0.490884   \n",
       "bathrooms            -0.007740   0.347248      0.490884   1.000000   \n",
       "cleaning_fee          0.003730   0.121777      0.188950   0.053514   \n",
       "latitude              0.006692   0.003362     -0.073857  -0.127524   \n",
       "longitude             0.011101  -0.043250     -0.080260  -0.125467   \n",
       "number_of_reviews    -0.005410  -0.031786      0.037285  -0.046195   \n",
       "review_scores_rating  0.006822   0.093349     -0.012337   0.011151   \n",
       "bedrooms              0.001691   0.484767      0.701503   0.578114   \n",
       "beds                 -0.002001   0.452548      0.811189   0.517307   \n",
       "\n",
       "                      cleaning_fee  latitude  longitude  number_of_reviews  \\\n",
       "id                        0.003730  0.006692   0.011101          -0.005410   \n",
       "log_price                 0.121777  0.003362  -0.043250          -0.031786   \n",
       "accommodates              0.188950 -0.073857  -0.080260           0.037285   \n",
       "bathrooms                 0.053514 -0.127524  -0.125467          -0.046195   \n",
       "cleaning_fee              1.000000 -0.065813  -0.074338           0.112034   \n",
       "latitude                 -0.065813  1.000000   0.896456          -0.018672   \n",
       "longitude                -0.074338  0.896456   1.000000          -0.047175   \n",
       "number_of_reviews         0.112034 -0.018672  -0.047175           1.000000   \n",
       "review_scores_rating      0.037779 -0.040265  -0.054929           0.016425   \n",
       "bedrooms                  0.114016 -0.059292  -0.073124          -0.038856   \n",
       "beds                      0.143235 -0.083189  -0.080780           0.030966   \n",
       "\n",
       "                      review_scores_rating  bedrooms      beds  \n",
       "id                                0.006822  0.001691 -0.002001  \n",
       "log_price                         0.093349  0.484767  0.452548  \n",
       "accommodates                     -0.012337  0.701503  0.811189  \n",
       "bathrooms                         0.011151  0.578114  0.517307  \n",
       "cleaning_fee                      0.037779  0.114016  0.143235  \n",
       "latitude                         -0.040265 -0.059292 -0.083189  \n",
       "longitude                        -0.054929 -0.073124 -0.080780  \n",
       "number_of_reviews                 0.016425 -0.038856  0.030966  \n",
       "review_scores_rating              1.000000  0.021525 -0.022357  \n",
       "bedrooms                          0.021525  1.000000  0.707111  \n",
       "beds                             -0.022357  0.707111  1.000000  "
      ]
     },
     "execution_count": 9,
     "metadata": {},
     "output_type": "execute_result"
    }
   ],
   "source": [
    "df_test.corr()"
   ]
  },
  {
   "cell_type": "markdown",
   "metadata": {},
   "source": [
    "# Date"
   ]
  },
  {
   "cell_type": "code",
   "execution_count": 10,
   "metadata": {},
   "outputs": [],
   "source": [
    "#df[\"last_review\"] = pd.to_datetime(df[\"last_review\"])\n",
    "#df[\"first_review\"] = pd.to_datetime(df[\"first_review\"])\n",
    "#df[\"host_since\"] = pd.to_datetime(df[\"host_since\"])"
   ]
  },
  {
   "cell_type": "markdown",
   "metadata": {},
   "source": [
    "# Replac missing values with previous date"
   ]
  },
  {
   "cell_type": "code",
   "execution_count": 11,
   "metadata": {},
   "outputs": [
    {
     "name": "stderr",
     "output_type": "stream",
     "text": [
      "C:\\Users\\Techno Link\\anaconda3\\lib\\site-packages\\pandas\\core\\series.py:4463: SettingWithCopyWarning: \n",
      "A value is trying to be set on a copy of a slice from a DataFrame\n",
      "\n",
      "See the caveats in the documentation: https://pandas.pydata.org/pandas-docs/stable/user_guide/indexing.html#returning-a-view-versus-a-copy\n",
      "  return super().fillna(\n"
     ]
    }
   ],
   "source": [
    "df_test.last_review.fillna(method=\"ffill\",inplace=True)\n",
    "df_test.first_review.fillna(method=\"ffill\",inplace=True)\n",
    "df_test.host_since.fillna(method=\"ffill\",inplace=True)"
   ]
  },
  {
   "cell_type": "markdown",
   "metadata": {},
   "source": [
    "# Handling Missing Values "
   ]
  },
  {
   "cell_type": "markdown",
   "metadata": {},
   "source": [
    "> #### 1. Bathrooms"
   ]
  },
  {
   "cell_type": "code",
   "execution_count": 12,
   "metadata": {},
   "outputs": [
    {
     "data": {
      "text/plain": [
       "array([1. , 4. , 2. , 1.5, 0. , 0.5, 2.5, 3. , nan, 3.5, 5. , 8. , 4.5,\n",
       "       5.5, 6. , 7.5])"
      ]
     },
     "execution_count": 12,
     "metadata": {},
     "output_type": "execute_result"
    }
   ],
   "source": [
    "df_test.bathrooms.unique()"
   ]
  },
  {
   "cell_type": "markdown",
   "metadata": {},
   "source": [
    "^ It is not logical for the bathrooms to be the flutes numbers, because in fact, for example, there is no bathroom and a half!"
   ]
  },
  {
   "cell_type": "code",
   "execution_count": 13,
   "metadata": {},
   "outputs": [],
   "source": [
    "#df_train[\"bathrooms\"]=df_train[\"bathrooms\"].round()"
   ]
  },
  {
   "cell_type": "code",
   "execution_count": 14,
   "metadata": {},
   "outputs": [
    {
     "data": {
      "text/plain": [
       "0    1.0\n",
       "dtype: float64"
      ]
     },
     "execution_count": 14,
     "metadata": {},
     "output_type": "execute_result"
    }
   ],
   "source": [
    "df_test[\"bathrooms\"].mode()"
   ]
  },
  {
   "cell_type": "code",
   "execution_count": 15,
   "metadata": {},
   "outputs": [
    {
     "data": {
      "text/plain": [
       "1.2413059163059164"
      ]
     },
     "execution_count": 15,
     "metadata": {},
     "output_type": "execute_result"
    }
   ],
   "source": [
    "df_test[\"bathrooms\"].mean()"
   ]
  },
  {
   "cell_type": "code",
   "execution_count": 16,
   "metadata": {},
   "outputs": [
    {
     "name": "stderr",
     "output_type": "stream",
     "text": [
      "<ipython-input-16-b7932df23e76>:1: SettingWithCopyWarning: \n",
      "A value is trying to be set on a copy of a slice from a DataFrame.\n",
      "Try using .loc[row_indexer,col_indexer] = value instead\n",
      "\n",
      "See the caveats in the documentation: https://pandas.pydata.org/pandas-docs/stable/user_guide/indexing.html#returning-a-view-versus-a-copy\n",
      "  df_test[\"bathrooms\"] = df_test['bathrooms'].fillna(1)\n"
     ]
    }
   ],
   "source": [
    "df_test[\"bathrooms\"] = df_test['bathrooms'].fillna(1)"
   ]
  },
  {
   "cell_type": "code",
   "execution_count": 17,
   "metadata": {},
   "outputs": [],
   "source": [
    "#df_train[\"bathrooms\"] = df_train['bathrooms'].fillna(df_train[\"bathrooms\"].mode())"
   ]
  },
  {
   "cell_type": "code",
   "execution_count": 18,
   "metadata": {},
   "outputs": [
    {
     "data": {
      "text/plain": [
       "1.0    10890\n",
       "2.0     1541\n",
       "1.5      672\n",
       "2.5      286\n",
       "3.0      223\n",
       "3.5       85\n",
       "4.0       51\n",
       "0.5       43\n",
       "0.0       41\n",
       "4.5       23\n",
       "5.0       17\n",
       "8.0       11\n",
       "6.0        7\n",
       "5.5        5\n",
       "7.5        1\n",
       "Name: bathrooms, dtype: int64"
      ]
     },
     "execution_count": 18,
     "metadata": {},
     "output_type": "execute_result"
    }
   ],
   "source": [
    "df_test[\"bathrooms\"].value_counts()"
   ]
  },
  {
   "cell_type": "markdown",
   "metadata": {},
   "source": [
    "> #### 2. review"
   ]
  },
  {
   "cell_type": "markdown",
   "metadata": {},
   "source": [
    "Missing values in column \"review_scores_rating\" are related to column \"number_of_reviews\"."
   ]
  },
  {
   "cell_type": "code",
   "execution_count": 19,
   "metadata": {},
   "outputs": [
    {
     "data": {
      "text/html": [
       "<div>\n",
       "<style scoped>\n",
       "    .dataframe tbody tr th:only-of-type {\n",
       "        vertical-align: middle;\n",
       "    }\n",
       "\n",
       "    .dataframe tbody tr th {\n",
       "        vertical-align: top;\n",
       "    }\n",
       "\n",
       "    .dataframe thead th {\n",
       "        text-align: right;\n",
       "    }\n",
       "</style>\n",
       "<table border=\"1\" class=\"dataframe\">\n",
       "  <thead>\n",
       "    <tr style=\"text-align: right;\">\n",
       "      <th></th>\n",
       "      <th>number_of_reviews</th>\n",
       "      <th>review_scores_rating</th>\n",
       "    </tr>\n",
       "  </thead>\n",
       "  <tbody>\n",
       "    <tr>\n",
       "      <th>36339</th>\n",
       "      <td>0</td>\n",
       "      <td>NaN</td>\n",
       "    </tr>\n",
       "    <tr>\n",
       "      <th>72747</th>\n",
       "      <td>0</td>\n",
       "      <td>NaN</td>\n",
       "    </tr>\n",
       "    <tr>\n",
       "      <th>20849</th>\n",
       "      <td>0</td>\n",
       "      <td>NaN</td>\n",
       "    </tr>\n",
       "    <tr>\n",
       "      <th>25183</th>\n",
       "      <td>0</td>\n",
       "      <td>NaN</td>\n",
       "    </tr>\n",
       "    <tr>\n",
       "      <th>17669</th>\n",
       "      <td>0</td>\n",
       "      <td>NaN</td>\n",
       "    </tr>\n",
       "    <tr>\n",
       "      <th>...</th>\n",
       "      <td>...</td>\n",
       "      <td>...</td>\n",
       "    </tr>\n",
       "    <tr>\n",
       "      <th>22869</th>\n",
       "      <td>0</td>\n",
       "      <td>NaN</td>\n",
       "    </tr>\n",
       "    <tr>\n",
       "      <th>37047</th>\n",
       "      <td>0</td>\n",
       "      <td>NaN</td>\n",
       "    </tr>\n",
       "    <tr>\n",
       "      <th>30838</th>\n",
       "      <td>0</td>\n",
       "      <td>NaN</td>\n",
       "    </tr>\n",
       "    <tr>\n",
       "      <th>73419</th>\n",
       "      <td>0</td>\n",
       "      <td>NaN</td>\n",
       "    </tr>\n",
       "    <tr>\n",
       "      <th>51739</th>\n",
       "      <td>0</td>\n",
       "      <td>NaN</td>\n",
       "    </tr>\n",
       "  </tbody>\n",
       "</table>\n",
       "<p>2879 rows × 2 columns</p>\n",
       "</div>"
      ],
      "text/plain": [
       "       number_of_reviews  review_scores_rating\n",
       "36339                  0                   NaN\n",
       "72747                  0                   NaN\n",
       "20849                  0                   NaN\n",
       "25183                  0                   NaN\n",
       "17669                  0                   NaN\n",
       "...                  ...                   ...\n",
       "22869                  0                   NaN\n",
       "37047                  0                   NaN\n",
       "30838                  0                   NaN\n",
       "73419                  0                   NaN\n",
       "51739                  0                   NaN\n",
       "\n",
       "[2879 rows x 2 columns]"
      ]
     },
     "execution_count": 19,
     "metadata": {},
     "output_type": "execute_result"
    }
   ],
   "source": [
    "df_test[[\"number_of_reviews\",\"review_scores_rating\"]][df_test.number_of_reviews == 0]"
   ]
  },
  {
   "cell_type": "code",
   "execution_count": 20,
   "metadata": {},
   "outputs": [
    {
     "name": "stderr",
     "output_type": "stream",
     "text": [
      "<ipython-input-20-5472addac16c>:1: SettingWithCopyWarning: \n",
      "A value is trying to be set on a copy of a slice from a DataFrame.\n",
      "Try using .loc[row_indexer,col_indexer] = value instead\n",
      "\n",
      "See the caveats in the documentation: https://pandas.pydata.org/pandas-docs/stable/user_guide/indexing.html#returning-a-view-versus-a-copy\n",
      "  df_test[\"review_scores_rating\"] = df_test[\"review_scores_rating\"].fillna(0)\n"
     ]
    }
   ],
   "source": [
    "df_test[\"review_scores_rating\"] = df_test[\"review_scores_rating\"].fillna(0)"
   ]
  },
  {
   "cell_type": "code",
   "execution_count": 21,
   "metadata": {},
   "outputs": [
    {
     "data": {
      "text/plain": [
       "array([ 94.,   0.,  99.,  96.,  85.,  92.,  90.,  91.,  98., 100.,  93.,\n",
       "        80.,  89.,  97.,  65.,  79.,  95.,  73.,  86.,  77.,  88.,  87.,\n",
       "        70.,  67.,  84.,  75.,  83.,  76.,  40.,  20.,  53.,  63.,  60.,\n",
       "        82.,  78.,  81.,  68.,  71.,  58.,  50.,  74.,  62.,  72.,  69.,\n",
       "        30.,  55.,  64.])"
      ]
     },
     "execution_count": 21,
     "metadata": {},
     "output_type": "execute_result"
    }
   ],
   "source": [
    "df_test[\"review_scores_rating\"].unique()"
   ]
  },
  {
   "cell_type": "code",
   "execution_count": 22,
   "metadata": {},
   "outputs": [
    {
     "name": "stderr",
     "output_type": "stream",
     "text": [
      "<ipython-input-22-47bd52535661>:1: SettingWithCopyWarning: \n",
      "A value is trying to be set on a copy of a slice from a DataFrame.\n",
      "Try using .loc[row_indexer,col_indexer] = value instead\n",
      "\n",
      "See the caveats in the documentation: https://pandas.pydata.org/pandas-docs/stable/user_guide/indexing.html#returning-a-view-versus-a-copy\n",
      "  df_test[\"review_scores_rating\"] = df_test[\"review_scores_rating\"]/100\n"
     ]
    }
   ],
   "source": [
    "df_test[\"review_scores_rating\"] = df_test[\"review_scores_rating\"]/100"
   ]
  },
  {
   "cell_type": "code",
   "execution_count": 23,
   "metadata": {},
   "outputs": [
    {
     "data": {
      "text/plain": [
       "array([0.94, 0.  , 0.99, 0.96, 0.85, 0.92, 0.9 , 0.91, 0.98, 1.  , 0.93,\n",
       "       0.8 , 0.89, 0.97, 0.65, 0.79, 0.95, 0.73, 0.86, 0.77, 0.88, 0.87,\n",
       "       0.7 , 0.67, 0.84, 0.75, 0.83, 0.76, 0.4 , 0.2 , 0.53, 0.63, 0.6 ,\n",
       "       0.82, 0.78, 0.81, 0.68, 0.71, 0.58, 0.5 , 0.74, 0.62, 0.72, 0.69,\n",
       "       0.3 , 0.55, 0.64])"
      ]
     },
     "execution_count": 23,
     "metadata": {},
     "output_type": "execute_result"
    }
   ],
   "source": [
    "df_test[\"review_scores_rating\"].unique()"
   ]
  },
  {
   "cell_type": "markdown",
   "metadata": {},
   "source": [
    "> #### 3. bedrooms"
   ]
  },
  {
   "cell_type": "code",
   "execution_count": 24,
   "metadata": {},
   "outputs": [
    {
     "data": {
      "text/plain": [
       "array([ 1.,  9.,  2.,  0.,  3.,  4.,  5., nan,  6.,  7., 10.,  8.])"
      ]
     },
     "execution_count": 24,
     "metadata": {},
     "output_type": "execute_result"
    }
   ],
   "source": [
    "df_test.bedrooms.unique()"
   ]
  },
  {
   "cell_type": "code",
   "execution_count": 25,
   "metadata": {},
   "outputs": [
    {
     "data": {
      "text/plain": [
       "1.262235997981691"
      ]
     },
     "execution_count": 25,
     "metadata": {},
     "output_type": "execute_result"
    }
   ],
   "source": [
    "df_test[\"bedrooms\"].mean()"
   ]
  },
  {
   "cell_type": "code",
   "execution_count": 26,
   "metadata": {},
   "outputs": [
    {
     "data": {
      "text/plain": [
       "0    1.0\n",
       "dtype: float64"
      ]
     },
     "execution_count": 26,
     "metadata": {},
     "output_type": "execute_result"
    }
   ],
   "source": [
    "df_test[\"bedrooms\"].mode()"
   ]
  },
  {
   "cell_type": "code",
   "execution_count": 27,
   "metadata": {},
   "outputs": [],
   "source": [
    "#df[\"bedrooms\"] = df['bedrooms'].fillna(df[\"bedrooms\"].mode())"
   ]
  },
  {
   "cell_type": "code",
   "execution_count": 28,
   "metadata": {},
   "outputs": [
    {
     "name": "stderr",
     "output_type": "stream",
     "text": [
      "<ipython-input-28-aed421e8aae4>:1: SettingWithCopyWarning: \n",
      "A value is trying to be set on a copy of a slice from a DataFrame.\n",
      "Try using .loc[row_indexer,col_indexer] = value instead\n",
      "\n",
      "See the caveats in the documentation: https://pandas.pydata.org/pandas-docs/stable/user_guide/indexing.html#returning-a-view-versus-a-copy\n",
      "  df_test[\"bedrooms\"] = df_test[\"bedrooms\"].fillna(1.0)\n"
     ]
    }
   ],
   "source": [
    "df_test[\"bedrooms\"] = df_test[\"bedrooms\"].fillna(1.0)"
   ]
  },
  {
   "cell_type": "code",
   "execution_count": 29,
   "metadata": {},
   "outputs": [
    {
     "data": {
      "text/plain": [
       "1.0     9413\n",
       "2.0     2070\n",
       "0.0     1259\n",
       "3.0      787\n",
       "4.0      259\n",
       "5.0       83\n",
       "6.0       14\n",
       "7.0        6\n",
       "8.0        3\n",
       "9.0        1\n",
       "10.0       1\n",
       "Name: bedrooms, dtype: int64"
      ]
     },
     "execution_count": 29,
     "metadata": {},
     "output_type": "execute_result"
    }
   ],
   "source": [
    "df_test.bedrooms.value_counts()"
   ]
  },
  {
   "cell_type": "markdown",
   "metadata": {},
   "source": [
    "> #### 4. Beds"
   ]
  },
  {
   "cell_type": "code",
   "execution_count": 30,
   "metadata": {},
   "outputs": [
    {
     "data": {
      "text/plain": [
       "array([ 1.,  9.,  2.,  3.,  4.,  5.,  7.,  6.,  8., nan, 12., 16., 10.,\n",
       "       13., 15., 11.,  0.])"
      ]
     },
     "execution_count": 30,
     "metadata": {},
     "output_type": "execute_result"
    }
   ],
   "source": [
    "df_test[\"beds\"].unique()"
   ]
  },
  {
   "cell_type": "code",
   "execution_count": 31,
   "metadata": {},
   "outputs": [
    {
     "data": {
      "text/plain": [
       "1.704384826193567"
      ]
     },
     "execution_count": 31,
     "metadata": {},
     "output_type": "execute_result"
    }
   ],
   "source": [
    "df_test[\"beds\"].mean()"
   ]
  },
  {
   "cell_type": "code",
   "execution_count": 32,
   "metadata": {},
   "outputs": [
    {
     "data": {
      "text/plain": [
       "0    1.0\n",
       "dtype: float64"
      ]
     },
     "execution_count": 32,
     "metadata": {},
     "output_type": "execute_result"
    }
   ],
   "source": [
    "df_test[\"beds\"].mode()"
   ]
  },
  {
   "cell_type": "code",
   "execution_count": 33,
   "metadata": {},
   "outputs": [
    {
     "name": "stderr",
     "output_type": "stream",
     "text": [
      "<ipython-input-33-4feb43389169>:1: SettingWithCopyWarning: \n",
      "A value is trying to be set on a copy of a slice from a DataFrame.\n",
      "Try using .loc[row_indexer,col_indexer] = value instead\n",
      "\n",
      "See the caveats in the documentation: https://pandas.pydata.org/pandas-docs/stable/user_guide/indexing.html#returning-a-view-versus-a-copy\n",
      "  df_test[\"beds\"] = df_test[\"beds\"].fillna(2.0)\n"
     ]
    }
   ],
   "source": [
    "df_test[\"beds\"] = df_test[\"beds\"].fillna(2.0)"
   ]
  },
  {
   "cell_type": "code",
   "execution_count": 34,
   "metadata": {},
   "outputs": [
    {
     "data": {
      "text/plain": [
       "1.0     8493\n",
       "2.0     3157\n",
       "3.0     1168\n",
       "4.0      582\n",
       "5.0      239\n",
       "6.0      136\n",
       "7.0       38\n",
       "8.0       37\n",
       "10.0      17\n",
       "9.0       11\n",
       "11.0       4\n",
       "12.0       4\n",
       "16.0       4\n",
       "0.0        2\n",
       "15.0       2\n",
       "13.0       2\n",
       "Name: beds, dtype: int64"
      ]
     },
     "execution_count": 34,
     "metadata": {},
     "output_type": "execute_result"
    }
   ],
   "source": [
    "df_test[\"beds\"].value_counts()"
   ]
  },
  {
   "cell_type": "markdown",
   "metadata": {},
   "source": [
    "> #### 5. host has profile pic"
   ]
  },
  {
   "cell_type": "code",
   "execution_count": 35,
   "metadata": {},
   "outputs": [
    {
     "data": {
      "text/plain": [
       "array(['t', nan, 'f'], dtype=object)"
      ]
     },
     "execution_count": 35,
     "metadata": {},
     "output_type": "execute_result"
    }
   ],
   "source": [
    "df_test.host_has_profile_pic.unique()"
   ]
  },
  {
   "cell_type": "code",
   "execution_count": 36,
   "metadata": {},
   "outputs": [
    {
     "data": {
      "text/plain": [
       "t    13820\n",
       "f       47\n",
       "Name: host_has_profile_pic, dtype: int64"
      ]
     },
     "execution_count": 36,
     "metadata": {},
     "output_type": "execute_result"
    }
   ],
   "source": [
    "df_test.host_has_profile_pic.value_counts()"
   ]
  },
  {
   "cell_type": "markdown",
   "metadata": {},
   "source": [
    "> #### 6. host_identity_verified"
   ]
  },
  {
   "cell_type": "code",
   "execution_count": 37,
   "metadata": {},
   "outputs": [
    {
     "data": {
      "text/plain": [
       "array(['f', 't', nan], dtype=object)"
      ]
     },
     "execution_count": 37,
     "metadata": {},
     "output_type": "execute_result"
    }
   ],
   "source": [
    "df_test.host_identity_verified.unique()"
   ]
  },
  {
   "cell_type": "code",
   "execution_count": 38,
   "metadata": {},
   "outputs": [
    {
     "data": {
      "text/plain": [
       "t    9354\n",
       "f    4513\n",
       "Name: host_identity_verified, dtype: int64"
      ]
     },
     "execution_count": 38,
     "metadata": {},
     "output_type": "execute_result"
    }
   ],
   "source": [
    "df_test.host_identity_verified.value_counts()"
   ]
  },
  {
   "cell_type": "markdown",
   "metadata": {},
   "source": [
    "the columns host_has_profile_pic and host_identity_verified has boolean values true and false¶\n"
   ]
  },
  {
   "cell_type": "code",
   "execution_count": 39,
   "metadata": {},
   "outputs": [
    {
     "name": "stderr",
     "output_type": "stream",
     "text": [
      "C:\\Users\\Techno Link\\anaconda3\\lib\\site-packages\\pandas\\core\\frame.py:4524: SettingWithCopyWarning: \n",
      "A value is trying to be set on a copy of a slice from a DataFrame\n",
      "\n",
      "See the caveats in the documentation: https://pandas.pydata.org/pandas-docs/stable/user_guide/indexing.html#returning-a-view-versus-a-copy\n",
      "  return super().replace(\n"
     ]
    }
   ],
   "source": [
    "df_test.replace(to_replace = \"t\", value = 1,inplace=True) \n",
    "df_test.replace(to_replace = \"f\", value = 0,inplace=True) "
   ]
  },
  {
   "cell_type": "code",
   "execution_count": 40,
   "metadata": {},
   "outputs": [
    {
     "name": "stderr",
     "output_type": "stream",
     "text": [
      "<ipython-input-40-2b8b1f4bcd9a>:1: SettingWithCopyWarning: \n",
      "A value is trying to be set on a copy of a slice from a DataFrame.\n",
      "Try using .loc[row_indexer,col_indexer] = value instead\n",
      "\n",
      "See the caveats in the documentation: https://pandas.pydata.org/pandas-docs/stable/user_guide/indexing.html#returning-a-view-versus-a-copy\n",
      "  df_test[\"host_has_profile_pic\"] = df_test[\"host_has_profile_pic\"].astype(\"bool\")\n",
      "<ipython-input-40-2b8b1f4bcd9a>:2: SettingWithCopyWarning: \n",
      "A value is trying to be set on a copy of a slice from a DataFrame.\n",
      "Try using .loc[row_indexer,col_indexer] = value instead\n",
      "\n",
      "See the caveats in the documentation: https://pandas.pydata.org/pandas-docs/stable/user_guide/indexing.html#returning-a-view-versus-a-copy\n",
      "  df_test[\"host_identity_verified\"] = df_test[\"host_identity_verified\"].astype(\"bool\")\n"
     ]
    }
   ],
   "source": [
    "df_test[\"host_has_profile_pic\"] = df_test[\"host_has_profile_pic\"].astype(\"bool\")\n",
    "df_test[\"host_identity_verified\"] = df_test[\"host_identity_verified\"].astype(\"bool\")"
   ]
  },
  {
   "cell_type": "code",
   "execution_count": 41,
   "metadata": {},
   "outputs": [
    {
     "data": {
      "text/plain": [
       "True     9383\n",
       "False    4513\n",
       "Name: host_identity_verified, dtype: int64"
      ]
     },
     "execution_count": 41,
     "metadata": {},
     "output_type": "execute_result"
    }
   ],
   "source": [
    "df_test.host_identity_verified.value_counts()"
   ]
  },
  {
   "cell_type": "code",
   "execution_count": 42,
   "metadata": {},
   "outputs": [
    {
     "data": {
      "text/plain": [
       "True     13849\n",
       "False       47\n",
       "Name: host_has_profile_pic, dtype: int64"
      ]
     },
     "execution_count": 42,
     "metadata": {},
     "output_type": "execute_result"
    }
   ],
   "source": [
    "df_test.host_has_profile_pic.value_counts()"
   ]
  },
  {
   "cell_type": "markdown",
   "metadata": {},
   "source": [
    "### Changed the datatype to bool of these two columns:"
   ]
  },
  {
   "cell_type": "code",
   "execution_count": 43,
   "metadata": {},
   "outputs": [],
   "source": [
    "#df[\"host_has_profile_pic\"] = df[\"host_has_profile_pic\"].astype(\"bool\")\n",
    "#df[\"host_identity_verified\"] = df[\"host_identity_verified\"].astype(\"bool\")"
   ]
  },
  {
   "cell_type": "markdown",
   "metadata": {},
   "source": [
    "> #### 7.host response rate"
   ]
  },
  {
   "cell_type": "code",
   "execution_count": 44,
   "metadata": {
    "scrolled": true
   },
   "outputs": [
    {
     "data": {
      "text/plain": [
       "array(['100%', nan, '70%', '50%', '80%', '96%', '93%', '89%', '97%',\n",
       "       '90%', '99%', '20%', '83%', '0%', '94%', '92%', '67%', '33%',\n",
       "       '75%', '81%', '84%', '85%', '91%', '82%', '95%', '40%', '60%',\n",
       "       '71%', '57%', '72%', '98%', '86%', '25%', '88%', '78%', '30%',\n",
       "       '35%', '56%', '69%', '87%', '68%', '54%', '43%', '53%', '55%',\n",
       "       '29%', '52%', '79%', '36%', '76%', '74%', '65%', '73%', '58%',\n",
       "       '10%', '63%', '38%', '15%', '41%', '27%', '17%', '14%', '77%',\n",
       "       '26%', '22%'], dtype=object)"
      ]
     },
     "execution_count": 44,
     "metadata": {},
     "output_type": "execute_result"
    }
   ],
   "source": [
    "df_test.host_response_rate.unique()"
   ]
  },
  {
   "cell_type": "code",
   "execution_count": 45,
   "metadata": {},
   "outputs": [
    {
     "name": "stderr",
     "output_type": "stream",
     "text": [
      "C:\\Users\\Techno Link\\anaconda3\\lib\\site-packages\\pandas\\core\\generic.py:5494: SettingWithCopyWarning: \n",
      "A value is trying to be set on a copy of a slice from a DataFrame.\n",
      "Try using .loc[row_indexer,col_indexer] = value instead\n",
      "\n",
      "See the caveats in the documentation: https://pandas.pydata.org/pandas-docs/stable/user_guide/indexing.html#returning-a-view-versus-a-copy\n",
      "  self[name] = value\n"
     ]
    }
   ],
   "source": [
    "df_test.host_response_rate = df_test.host_response_rate.apply(\n",
    "    lambda x: int(x[:len(x)-1])/100\n",
    "     if isinstance(x,str) else x )"
   ]
  },
  {
   "cell_type": "code",
   "execution_count": 46,
   "metadata": {},
   "outputs": [
    {
     "data": {
      "text/plain": [
       "array([1.  ,  nan, 0.7 , 0.5 , 0.8 , 0.96, 0.93, 0.89, 0.97, 0.9 , 0.99,\n",
       "       0.2 , 0.83, 0.  , 0.94, 0.92, 0.67, 0.33, 0.75, 0.81, 0.84, 0.85,\n",
       "       0.91, 0.82, 0.95, 0.4 , 0.6 , 0.71, 0.57, 0.72, 0.98, 0.86, 0.25,\n",
       "       0.88, 0.78, 0.3 , 0.35, 0.56, 0.69, 0.87, 0.68, 0.54, 0.43, 0.53,\n",
       "       0.55, 0.29, 0.52, 0.79, 0.36, 0.76, 0.74, 0.65, 0.73, 0.58, 0.1 ,\n",
       "       0.63, 0.38, 0.15, 0.41, 0.27, 0.17, 0.14, 0.77, 0.26, 0.22])"
      ]
     },
     "execution_count": 46,
     "metadata": {},
     "output_type": "execute_result"
    }
   ],
   "source": [
    "df_test.host_response_rate.unique()"
   ]
  },
  {
   "cell_type": "code",
   "execution_count": 47,
   "metadata": {},
   "outputs": [],
   "source": [
    "df_test.host_response_rate = df_test.host_response_rate.fillna(df_test.host_response_rate.mean())"
   ]
  },
  {
   "cell_type": "code",
   "execution_count": 48,
   "metadata": {},
   "outputs": [
    {
     "data": {
      "text/plain": [
       "1.00000    8159\n",
       "0.94516    3388\n",
       "0.90000     414\n",
       "0.80000     190\n",
       "0.00000     149\n",
       "           ... \n",
       "0.15000       1\n",
       "0.17000       1\n",
       "0.52000       1\n",
       "0.36000       1\n",
       "0.26000       1\n",
       "Name: host_response_rate, Length: 65, dtype: int64"
      ]
     },
     "execution_count": 48,
     "metadata": {},
     "output_type": "execute_result"
    }
   ],
   "source": [
    "df_test.host_response_rate.value_counts()"
   ]
  },
  {
   "cell_type": "code",
   "execution_count": 49,
   "metadata": {},
   "outputs": [
    {
     "data": {
      "text/plain": [
       "array([1.        , 0.94515988, 0.7       , 0.5       , 0.8       ,\n",
       "       0.96      , 0.93      , 0.89      , 0.97      , 0.9       ,\n",
       "       0.99      , 0.2       , 0.83      , 0.        , 0.94      ,\n",
       "       0.92      , 0.67      , 0.33      , 0.75      , 0.81      ,\n",
       "       0.84      , 0.85      , 0.91      , 0.82      , 0.95      ,\n",
       "       0.4       , 0.6       , 0.71      , 0.57      , 0.72      ,\n",
       "       0.98      , 0.86      , 0.25      , 0.88      , 0.78      ,\n",
       "       0.3       , 0.35      , 0.56      , 0.69      , 0.87      ,\n",
       "       0.68      , 0.54      , 0.43      , 0.53      , 0.55      ,\n",
       "       0.29      , 0.52      , 0.79      , 0.36      , 0.76      ,\n",
       "       0.74      , 0.65      , 0.73      , 0.58      , 0.1       ,\n",
       "       0.63      , 0.38      , 0.15      , 0.41      , 0.27      ,\n",
       "       0.17      , 0.14      , 0.77      , 0.26      , 0.22      ])"
      ]
     },
     "execution_count": 49,
     "metadata": {},
     "output_type": "execute_result"
    }
   ],
   "source": [
    "df_test.host_response_rate.unique()"
   ]
  },
  {
   "cell_type": "markdown",
   "metadata": {},
   "source": [
    "> #### 8.drob"
   ]
  },
  {
   "cell_type": "code",
   "execution_count": 50,
   "metadata": {},
   "outputs": [],
   "source": [
    "#id\n",
    "#description\n",
    " ##first_review\n",
    " ##last_review\n",
    " ##host_since\n",
    "#host_has_profile_pic\n",
    "#name\n",
    "#thumbnail_url\n",
    "#zipcode\n",
    "#neighbourhood"
   ]
  },
  {
   "cell_type": "code",
   "execution_count": 51,
   "metadata": {},
   "outputs": [
    {
     "data": {
      "text/plain": [
       "Index(['id', 'log_price', 'property_type', 'room_type', 'amenities',\n",
       "       'accommodates', 'bathrooms', 'bed_type', 'cancellation_policy',\n",
       "       'cleaning_fee', 'city', 'description', 'first_review',\n",
       "       'host_has_profile_pic', 'host_identity_verified', 'host_response_rate',\n",
       "       'host_since', 'instant_bookable', 'last_review', 'latitude',\n",
       "       'longitude', 'name', 'neighbourhood', 'number_of_reviews',\n",
       "       'review_scores_rating', 'thumbnail_url', 'zipcode', 'bedrooms', 'beds'],\n",
       "      dtype='object')"
      ]
     },
     "execution_count": 51,
     "metadata": {},
     "output_type": "execute_result"
    }
   ],
   "source": [
    "df_test = df_test.drop(['id','description','first_review','last_review','host_since',\n",
    "                          'host_has_profile_pic','name','thumbnail_url','zipcode','neighbourhood',\"amenities\"],axis=1)\n",
    "df_train.columns"
   ]
  },
  {
   "cell_type": "code",
   "execution_count": 52,
   "metadata": {},
   "outputs": [
    {
     "data": {
      "text/plain": [
       "log_price                 0\n",
       "property_type             0\n",
       "room_type                 0\n",
       "accommodates              0\n",
       "bathrooms                 0\n",
       "bed_type                  0\n",
       "cancellation_policy       0\n",
       "cleaning_fee              0\n",
       "city                      0\n",
       "host_identity_verified    0\n",
       "host_response_rate        0\n",
       "instant_bookable          0\n",
       "latitude                  0\n",
       "longitude                 0\n",
       "number_of_reviews         0\n",
       "review_scores_rating      0\n",
       "bedrooms                  0\n",
       "beds                      0\n",
       "dtype: int64"
      ]
     },
     "execution_count": 52,
     "metadata": {},
     "output_type": "execute_result"
    }
   ],
   "source": [
    "df_test.isna().sum()"
   ]
  },
  {
   "cell_type": "code",
   "execution_count": 53,
   "metadata": {
    "scrolled": true
   },
   "outputs": [
    {
     "data": {
      "text/html": [
       "<div>\n",
       "<style scoped>\n",
       "    .dataframe tbody tr th:only-of-type {\n",
       "        vertical-align: middle;\n",
       "    }\n",
       "\n",
       "    .dataframe tbody tr th {\n",
       "        vertical-align: top;\n",
       "    }\n",
       "\n",
       "    .dataframe thead th {\n",
       "        text-align: right;\n",
       "    }\n",
       "</style>\n",
       "<table border=\"1\" class=\"dataframe\">\n",
       "  <thead>\n",
       "    <tr style=\"text-align: right;\">\n",
       "      <th></th>\n",
       "      <th>log_price</th>\n",
       "      <th>property_type</th>\n",
       "      <th>room_type</th>\n",
       "      <th>accommodates</th>\n",
       "      <th>bathrooms</th>\n",
       "      <th>bed_type</th>\n",
       "      <th>cancellation_policy</th>\n",
       "      <th>cleaning_fee</th>\n",
       "      <th>city</th>\n",
       "      <th>host_identity_verified</th>\n",
       "      <th>host_response_rate</th>\n",
       "      <th>instant_bookable</th>\n",
       "      <th>latitude</th>\n",
       "      <th>longitude</th>\n",
       "      <th>number_of_reviews</th>\n",
       "      <th>review_scores_rating</th>\n",
       "      <th>bedrooms</th>\n",
       "      <th>beds</th>\n",
       "    </tr>\n",
       "  </thead>\n",
       "  <tbody>\n",
       "    <tr>\n",
       "      <th>4281</th>\n",
       "      <td>4.477337</td>\n",
       "      <td>Apartment</td>\n",
       "      <td>Private room</td>\n",
       "      <td>2</td>\n",
       "      <td>1.0</td>\n",
       "      <td>Real Bed</td>\n",
       "      <td>strict</td>\n",
       "      <td>True</td>\n",
       "      <td>Boston</td>\n",
       "      <td>False</td>\n",
       "      <td>1.00000</td>\n",
       "      <td>0</td>\n",
       "      <td>42.342498</td>\n",
       "      <td>-71.080286</td>\n",
       "      <td>22</td>\n",
       "      <td>0.94</td>\n",
       "      <td>1.0</td>\n",
       "      <td>1.0</td>\n",
       "    </tr>\n",
       "    <tr>\n",
       "      <th>36339</th>\n",
       "      <td>7.377759</td>\n",
       "      <td>House</td>\n",
       "      <td>Entire home/apt</td>\n",
       "      <td>12</td>\n",
       "      <td>4.0</td>\n",
       "      <td>Real Bed</td>\n",
       "      <td>strict</td>\n",
       "      <td>False</td>\n",
       "      <td>SF</td>\n",
       "      <td>True</td>\n",
       "      <td>0.94516</td>\n",
       "      <td>0</td>\n",
       "      <td>37.772892</td>\n",
       "      <td>-122.426182</td>\n",
       "      <td>0</td>\n",
       "      <td>0.00</td>\n",
       "      <td>9.0</td>\n",
       "      <td>9.0</td>\n",
       "    </tr>\n",
       "    <tr>\n",
       "      <th>53913</th>\n",
       "      <td>4.976734</td>\n",
       "      <td>Apartment</td>\n",
       "      <td>Entire home/apt</td>\n",
       "      <td>3</td>\n",
       "      <td>1.0</td>\n",
       "      <td>Real Bed</td>\n",
       "      <td>moderate</td>\n",
       "      <td>True</td>\n",
       "      <td>NYC</td>\n",
       "      <td>True</td>\n",
       "      <td>0.94516</td>\n",
       "      <td>0</td>\n",
       "      <td>40.719425</td>\n",
       "      <td>-73.956500</td>\n",
       "      <td>8</td>\n",
       "      <td>0.94</td>\n",
       "      <td>1.0</td>\n",
       "      <td>2.0</td>\n",
       "    </tr>\n",
       "    <tr>\n",
       "      <th>72747</th>\n",
       "      <td>3.688879</td>\n",
       "      <td>House</td>\n",
       "      <td>Private room</td>\n",
       "      <td>1</td>\n",
       "      <td>1.0</td>\n",
       "      <td>Real Bed</td>\n",
       "      <td>flexible</td>\n",
       "      <td>False</td>\n",
       "      <td>LA</td>\n",
       "      <td>True</td>\n",
       "      <td>1.00000</td>\n",
       "      <td>0</td>\n",
       "      <td>34.189818</td>\n",
       "      <td>-118.565122</td>\n",
       "      <td>0</td>\n",
       "      <td>0.00</td>\n",
       "      <td>1.0</td>\n",
       "      <td>1.0</td>\n",
       "    </tr>\n",
       "    <tr>\n",
       "      <th>69751</th>\n",
       "      <td>5.241747</td>\n",
       "      <td>Apartment</td>\n",
       "      <td>Entire home/apt</td>\n",
       "      <td>4</td>\n",
       "      <td>1.0</td>\n",
       "      <td>Real Bed</td>\n",
       "      <td>strict</td>\n",
       "      <td>True</td>\n",
       "      <td>NYC</td>\n",
       "      <td>True</td>\n",
       "      <td>0.70000</td>\n",
       "      <td>0</td>\n",
       "      <td>40.721229</td>\n",
       "      <td>-73.949986</td>\n",
       "      <td>18</td>\n",
       "      <td>0.99</td>\n",
       "      <td>1.0</td>\n",
       "      <td>2.0</td>\n",
       "    </tr>\n",
       "  </tbody>\n",
       "</table>\n",
       "</div>"
      ],
      "text/plain": [
       "       log_price property_type        room_type  accommodates  bathrooms  \\\n",
       "4281    4.477337     Apartment     Private room             2        1.0   \n",
       "36339   7.377759         House  Entire home/apt            12        4.0   \n",
       "53913   4.976734     Apartment  Entire home/apt             3        1.0   \n",
       "72747   3.688879         House     Private room             1        1.0   \n",
       "69751   5.241747     Apartment  Entire home/apt             4        1.0   \n",
       "\n",
       "       bed_type cancellation_policy  cleaning_fee    city  \\\n",
       "4281   Real Bed              strict          True  Boston   \n",
       "36339  Real Bed              strict         False      SF   \n",
       "53913  Real Bed            moderate          True     NYC   \n",
       "72747  Real Bed            flexible         False      LA   \n",
       "69751  Real Bed              strict          True     NYC   \n",
       "\n",
       "       host_identity_verified  host_response_rate  instant_bookable  \\\n",
       "4281                    False             1.00000                 0   \n",
       "36339                    True             0.94516                 0   \n",
       "53913                    True             0.94516                 0   \n",
       "72747                    True             1.00000                 0   \n",
       "69751                    True             0.70000                 0   \n",
       "\n",
       "        latitude   longitude  number_of_reviews  review_scores_rating  \\\n",
       "4281   42.342498  -71.080286                 22                  0.94   \n",
       "36339  37.772892 -122.426182                  0                  0.00   \n",
       "53913  40.719425  -73.956500                  8                  0.94   \n",
       "72747  34.189818 -118.565122                  0                  0.00   \n",
       "69751  40.721229  -73.949986                 18                  0.99   \n",
       "\n",
       "       bedrooms  beds  \n",
       "4281        1.0   1.0  \n",
       "36339       9.0   9.0  \n",
       "53913       1.0   2.0  \n",
       "72747       1.0   1.0  \n",
       "69751       1.0   2.0  "
      ]
     },
     "execution_count": 53,
     "metadata": {},
     "output_type": "execute_result"
    }
   ],
   "source": [
    "df_test.head()"
   ]
  },
  {
   "cell_type": "markdown",
   "metadata": {},
   "source": [
    "> #### 9.amenities"
   ]
  },
  {
   "cell_type": "code",
   "execution_count": 54,
   "metadata": {},
   "outputs": [],
   "source": [
    "# df_train.isna().sum()"
   ]
  },
  {
   "cell_type": "code",
   "execution_count": 55,
   "metadata": {},
   "outputs": [],
   "source": [
    "# df_train['amenities']"
   ]
  },
  {
   "cell_type": "code",
   "execution_count": 56,
   "metadata": {},
   "outputs": [],
   "source": [
    "# amenities_col = []\n",
    "# amenities_map = {}\n",
    "# for s in df_train.amenities:\n",
    "#     s = s.replace('{','')\n",
    "#     s = s.replace('}','')\n",
    "#     s = s.replace('\"','')\n",
    "#     s = s.split(',')\n",
    "#     amenities_col.append(max(len(s)-1,0))\n",
    "#     for k in s:\n",
    "#         if amenities_map.get(k) != None:\n",
    "#             amenities_map[k] +=1 \n",
    "#     else:\n",
    "#         amenities_map[k] = 1"
   ]
  },
  {
   "cell_type": "code",
   "execution_count": 57,
   "metadata": {},
   "outputs": [],
   "source": [
    "#df_train['amenities_count'] = pd.Series(amenities_col)"
   ]
  },
  {
   "cell_type": "code",
   "execution_count": 58,
   "metadata": {},
   "outputs": [],
   "source": [
    "#df_train['amenities_count'].isna().sum()"
   ]
  },
  {
   "cell_type": "code",
   "execution_count": 59,
   "metadata": {},
   "outputs": [],
   "source": [
    "#df1['amenities_count'].unique()"
   ]
  },
  {
   "cell_type": "code",
   "execution_count": 60,
   "metadata": {},
   "outputs": [],
   "source": [
    "#df1['amenities_count'].value_counts()"
   ]
  },
  {
   "cell_type": "code",
   "execution_count": 61,
   "metadata": {},
   "outputs": [],
   "source": [
    "#df1 = df1.drop(['amenities'], axis=1)"
   ]
  },
  {
   "cell_type": "code",
   "execution_count": 62,
   "metadata": {},
   "outputs": [],
   "source": [
    "#df1.head()"
   ]
  },
  {
   "cell_type": "markdown",
   "metadata": {},
   "source": [
    "# 9.Factorization of categorical columns"
   ]
  },
  {
   "cell_type": "markdown",
   "metadata": {},
   "source": [
    "### 1- room_type"
   ]
  },
  {
   "cell_type": "code",
   "execution_count": 63,
   "metadata": {},
   "outputs": [
    {
     "data": {
      "text/plain": [
       "array(['Private room', 'Entire home/apt', 'Shared room'], dtype=object)"
      ]
     },
     "execution_count": 63,
     "metadata": {},
     "output_type": "execute_result"
    }
   ],
   "source": [
    "df_test.room_type.unique()"
   ]
  },
  {
   "cell_type": "code",
   "execution_count": 64,
   "metadata": {},
   "outputs": [
    {
     "data": {
      "text/plain": [
       "Entire home/apt    7690\n",
       "Private room       5806\n",
       "Shared room         400\n",
       "Name: room_type, dtype: int64"
      ]
     },
     "execution_count": 64,
     "metadata": {},
     "output_type": "execute_result"
    }
   ],
   "source": [
    "df_test.room_type.value_counts()"
   ]
  },
  {
   "cell_type": "code",
   "execution_count": 65,
   "metadata": {},
   "outputs": [],
   "source": [
    "#df1 = pd.concat([df1, pd.get_dummies(df1['room_type'], prefix='room_type')],axis=1)"
   ]
  },
  {
   "cell_type": "code",
   "execution_count": 66,
   "metadata": {},
   "outputs": [],
   "source": [
    "#df1 = df1.drop(['room_type'],axis=1)"
   ]
  },
  {
   "cell_type": "code",
   "execution_count": 67,
   "metadata": {},
   "outputs": [],
   "source": [
    "def room_type_cleaning(x):\n",
    "    if x=='Entire home/apt':\n",
    "        x= 3\n",
    "    elif x=='Private room':\n",
    "        x= 2\n",
    "    elif x=='Shared room':\n",
    "        x= 1\n",
    "    return x\n",
    "df_test['room_type']=df_test['room_type'].map(lambda x: room_type_cleaning(x))"
   ]
  },
  {
   "cell_type": "code",
   "execution_count": 68,
   "metadata": {},
   "outputs": [],
   "source": [
    "#df1.room_type = df1.room_type.apply(lambda x: 3 if x=='Entire home/apt' else 2 if x=='Private room' else 1)"
   ]
  },
  {
   "cell_type": "code",
   "execution_count": 69,
   "metadata": {},
   "outputs": [
    {
     "data": {
      "text/html": [
       "<div>\n",
       "<style scoped>\n",
       "    .dataframe tbody tr th:only-of-type {\n",
       "        vertical-align: middle;\n",
       "    }\n",
       "\n",
       "    .dataframe tbody tr th {\n",
       "        vertical-align: top;\n",
       "    }\n",
       "\n",
       "    .dataframe thead th {\n",
       "        text-align: right;\n",
       "    }\n",
       "</style>\n",
       "<table border=\"1\" class=\"dataframe\">\n",
       "  <thead>\n",
       "    <tr style=\"text-align: right;\">\n",
       "      <th></th>\n",
       "      <th>log_price</th>\n",
       "      <th>property_type</th>\n",
       "      <th>room_type</th>\n",
       "      <th>accommodates</th>\n",
       "      <th>bathrooms</th>\n",
       "      <th>bed_type</th>\n",
       "      <th>cancellation_policy</th>\n",
       "      <th>cleaning_fee</th>\n",
       "      <th>city</th>\n",
       "      <th>host_identity_verified</th>\n",
       "      <th>host_response_rate</th>\n",
       "      <th>instant_bookable</th>\n",
       "      <th>latitude</th>\n",
       "      <th>longitude</th>\n",
       "      <th>number_of_reviews</th>\n",
       "      <th>review_scores_rating</th>\n",
       "      <th>bedrooms</th>\n",
       "      <th>beds</th>\n",
       "    </tr>\n",
       "  </thead>\n",
       "  <tbody>\n",
       "    <tr>\n",
       "      <th>4281</th>\n",
       "      <td>4.477337</td>\n",
       "      <td>Apartment</td>\n",
       "      <td>2</td>\n",
       "      <td>2</td>\n",
       "      <td>1.0</td>\n",
       "      <td>Real Bed</td>\n",
       "      <td>strict</td>\n",
       "      <td>True</td>\n",
       "      <td>Boston</td>\n",
       "      <td>False</td>\n",
       "      <td>1.00000</td>\n",
       "      <td>0</td>\n",
       "      <td>42.342498</td>\n",
       "      <td>-71.080286</td>\n",
       "      <td>22</td>\n",
       "      <td>0.94</td>\n",
       "      <td>1.0</td>\n",
       "      <td>1.0</td>\n",
       "    </tr>\n",
       "    <tr>\n",
       "      <th>36339</th>\n",
       "      <td>7.377759</td>\n",
       "      <td>House</td>\n",
       "      <td>3</td>\n",
       "      <td>12</td>\n",
       "      <td>4.0</td>\n",
       "      <td>Real Bed</td>\n",
       "      <td>strict</td>\n",
       "      <td>False</td>\n",
       "      <td>SF</td>\n",
       "      <td>True</td>\n",
       "      <td>0.94516</td>\n",
       "      <td>0</td>\n",
       "      <td>37.772892</td>\n",
       "      <td>-122.426182</td>\n",
       "      <td>0</td>\n",
       "      <td>0.00</td>\n",
       "      <td>9.0</td>\n",
       "      <td>9.0</td>\n",
       "    </tr>\n",
       "    <tr>\n",
       "      <th>53913</th>\n",
       "      <td>4.976734</td>\n",
       "      <td>Apartment</td>\n",
       "      <td>3</td>\n",
       "      <td>3</td>\n",
       "      <td>1.0</td>\n",
       "      <td>Real Bed</td>\n",
       "      <td>moderate</td>\n",
       "      <td>True</td>\n",
       "      <td>NYC</td>\n",
       "      <td>True</td>\n",
       "      <td>0.94516</td>\n",
       "      <td>0</td>\n",
       "      <td>40.719425</td>\n",
       "      <td>-73.956500</td>\n",
       "      <td>8</td>\n",
       "      <td>0.94</td>\n",
       "      <td>1.0</td>\n",
       "      <td>2.0</td>\n",
       "    </tr>\n",
       "    <tr>\n",
       "      <th>72747</th>\n",
       "      <td>3.688879</td>\n",
       "      <td>House</td>\n",
       "      <td>2</td>\n",
       "      <td>1</td>\n",
       "      <td>1.0</td>\n",
       "      <td>Real Bed</td>\n",
       "      <td>flexible</td>\n",
       "      <td>False</td>\n",
       "      <td>LA</td>\n",
       "      <td>True</td>\n",
       "      <td>1.00000</td>\n",
       "      <td>0</td>\n",
       "      <td>34.189818</td>\n",
       "      <td>-118.565122</td>\n",
       "      <td>0</td>\n",
       "      <td>0.00</td>\n",
       "      <td>1.0</td>\n",
       "      <td>1.0</td>\n",
       "    </tr>\n",
       "    <tr>\n",
       "      <th>69751</th>\n",
       "      <td>5.241747</td>\n",
       "      <td>Apartment</td>\n",
       "      <td>3</td>\n",
       "      <td>4</td>\n",
       "      <td>1.0</td>\n",
       "      <td>Real Bed</td>\n",
       "      <td>strict</td>\n",
       "      <td>True</td>\n",
       "      <td>NYC</td>\n",
       "      <td>True</td>\n",
       "      <td>0.70000</td>\n",
       "      <td>0</td>\n",
       "      <td>40.721229</td>\n",
       "      <td>-73.949986</td>\n",
       "      <td>18</td>\n",
       "      <td>0.99</td>\n",
       "      <td>1.0</td>\n",
       "      <td>2.0</td>\n",
       "    </tr>\n",
       "  </tbody>\n",
       "</table>\n",
       "</div>"
      ],
      "text/plain": [
       "       log_price property_type  room_type  accommodates  bathrooms  bed_type  \\\n",
       "4281    4.477337     Apartment          2             2        1.0  Real Bed   \n",
       "36339   7.377759         House          3            12        4.0  Real Bed   \n",
       "53913   4.976734     Apartment          3             3        1.0  Real Bed   \n",
       "72747   3.688879         House          2             1        1.0  Real Bed   \n",
       "69751   5.241747     Apartment          3             4        1.0  Real Bed   \n",
       "\n",
       "      cancellation_policy  cleaning_fee    city  host_identity_verified  \\\n",
       "4281               strict          True  Boston                   False   \n",
       "36339              strict         False      SF                    True   \n",
       "53913            moderate          True     NYC                    True   \n",
       "72747            flexible         False      LA                    True   \n",
       "69751              strict          True     NYC                    True   \n",
       "\n",
       "       host_response_rate  instant_bookable   latitude   longitude  \\\n",
       "4281              1.00000                 0  42.342498  -71.080286   \n",
       "36339             0.94516                 0  37.772892 -122.426182   \n",
       "53913             0.94516                 0  40.719425  -73.956500   \n",
       "72747             1.00000                 0  34.189818 -118.565122   \n",
       "69751             0.70000                 0  40.721229  -73.949986   \n",
       "\n",
       "       number_of_reviews  review_scores_rating  bedrooms  beds  \n",
       "4281                  22                  0.94       1.0   1.0  \n",
       "36339                  0                  0.00       9.0   9.0  \n",
       "53913                  8                  0.94       1.0   2.0  \n",
       "72747                  0                  0.00       1.0   1.0  \n",
       "69751                 18                  0.99       1.0   2.0  "
      ]
     },
     "execution_count": 69,
     "metadata": {},
     "output_type": "execute_result"
    }
   ],
   "source": [
    "df_test.head()"
   ]
  },
  {
   "cell_type": "code",
   "execution_count": 70,
   "metadata": {},
   "outputs": [
    {
     "data": {
      "text/plain": [
       "log_price                 0\n",
       "property_type             0\n",
       "room_type                 0\n",
       "accommodates              0\n",
       "bathrooms                 0\n",
       "bed_type                  0\n",
       "cancellation_policy       0\n",
       "cleaning_fee              0\n",
       "city                      0\n",
       "host_identity_verified    0\n",
       "host_response_rate        0\n",
       "instant_bookable          0\n",
       "latitude                  0\n",
       "longitude                 0\n",
       "number_of_reviews         0\n",
       "review_scores_rating      0\n",
       "bedrooms                  0\n",
       "beds                      0\n",
       "dtype: int64"
      ]
     },
     "execution_count": 70,
     "metadata": {},
     "output_type": "execute_result"
    }
   ],
   "source": [
    "df_test.isna().sum()"
   ]
  },
  {
   "cell_type": "markdown",
   "metadata": {},
   "source": [
    "### 2- bed_type"
   ]
  },
  {
   "cell_type": "code",
   "execution_count": 71,
   "metadata": {},
   "outputs": [
    {
     "data": {
      "text/plain": [
       "array(['Real Bed', 'Pull-out Sofa', 'Futon', 'Airbed', 'Couch'],\n",
       "      dtype=object)"
      ]
     },
     "execution_count": 71,
     "metadata": {},
     "output_type": "execute_result"
    }
   ],
   "source": [
    "df_test.bed_type.unique()"
   ]
  },
  {
   "cell_type": "code",
   "execution_count": 72,
   "metadata": {},
   "outputs": [
    {
     "data": {
      "text/plain": [
       "Real Bed         13517\n",
       "Futon              135\n",
       "Pull-out Sofa       99\n",
       "Airbed              94\n",
       "Couch               51\n",
       "Name: bed_type, dtype: int64"
      ]
     },
     "execution_count": 72,
     "metadata": {},
     "output_type": "execute_result"
    }
   ],
   "source": [
    "df_test.bed_type.value_counts()"
   ]
  },
  {
   "cell_type": "code",
   "execution_count": 73,
   "metadata": {},
   "outputs": [],
   "source": [
    "#df1.bed_type = df.bed_type.map(lambda x: 2 if x=='Real Bed' else 1)"
   ]
  },
  {
   "cell_type": "code",
   "execution_count": 74,
   "metadata": {},
   "outputs": [],
   "source": [
    "df_test = pd.concat([df_train, pd.get_dummies(df_train['bed_type'], prefix='bed_type')],axis=1)"
   ]
  },
  {
   "cell_type": "code",
   "execution_count": 75,
   "metadata": {},
   "outputs": [],
   "source": [
    "df_test = df_train.drop(['bed_type'],axis=1)"
   ]
  },
  {
   "cell_type": "code",
   "execution_count": 76,
   "metadata": {
    "scrolled": true
   },
   "outputs": [
    {
     "data": {
      "text/html": [
       "<div>\n",
       "<style scoped>\n",
       "    .dataframe tbody tr th:only-of-type {\n",
       "        vertical-align: middle;\n",
       "    }\n",
       "\n",
       "    .dataframe tbody tr th {\n",
       "        vertical-align: top;\n",
       "    }\n",
       "\n",
       "    .dataframe thead th {\n",
       "        text-align: right;\n",
       "    }\n",
       "</style>\n",
       "<table border=\"1\" class=\"dataframe\">\n",
       "  <thead>\n",
       "    <tr style=\"text-align: right;\">\n",
       "      <th></th>\n",
       "      <th>id</th>\n",
       "      <th>log_price</th>\n",
       "      <th>property_type</th>\n",
       "      <th>room_type</th>\n",
       "      <th>amenities</th>\n",
       "      <th>accommodates</th>\n",
       "      <th>bathrooms</th>\n",
       "      <th>cancellation_policy</th>\n",
       "      <th>cleaning_fee</th>\n",
       "      <th>city</th>\n",
       "      <th>...</th>\n",
       "      <th>latitude</th>\n",
       "      <th>longitude</th>\n",
       "      <th>name</th>\n",
       "      <th>neighbourhood</th>\n",
       "      <th>number_of_reviews</th>\n",
       "      <th>review_scores_rating</th>\n",
       "      <th>thumbnail_url</th>\n",
       "      <th>zipcode</th>\n",
       "      <th>bedrooms</th>\n",
       "      <th>beds</th>\n",
       "    </tr>\n",
       "  </thead>\n",
       "  <tbody>\n",
       "    <tr>\n",
       "      <th>17236</th>\n",
       "      <td>11276421</td>\n",
       "      <td>4.941642</td>\n",
       "      <td>Apartment</td>\n",
       "      <td>Entire home/apt</td>\n",
       "      <td>{TV,\"Cable TV\",\"Wireless Internet\",\"Air condit...</td>\n",
       "      <td>3</td>\n",
       "      <td>1.0</td>\n",
       "      <td>strict</td>\n",
       "      <td>True</td>\n",
       "      <td>Boston</td>\n",
       "      <td>...</td>\n",
       "      <td>42.328538</td>\n",
       "      <td>-71.110867</td>\n",
       "      <td>Stylish 1BR with Outdoor Pool &amp; Fitness Center!</td>\n",
       "      <td>Jamaica Plain</td>\n",
       "      <td>0</td>\n",
       "      <td>NaN</td>\n",
       "      <td>https://a0.muscache.com/im/pictures/3aa3bfda-b...</td>\n",
       "      <td>2130</td>\n",
       "      <td>1.0</td>\n",
       "      <td>1.0</td>\n",
       "    </tr>\n",
       "    <tr>\n",
       "      <th>58369</th>\n",
       "      <td>1634003</td>\n",
       "      <td>4.382027</td>\n",
       "      <td>Apartment</td>\n",
       "      <td>Private room</td>\n",
       "      <td>{TV,\"Wireless Internet\",Kitchen,\"Free parking ...</td>\n",
       "      <td>1</td>\n",
       "      <td>1.0</td>\n",
       "      <td>flexible</td>\n",
       "      <td>True</td>\n",
       "      <td>LA</td>\n",
       "      <td>...</td>\n",
       "      <td>34.033205</td>\n",
       "      <td>-118.447228</td>\n",
       "      <td>California Charisma</td>\n",
       "      <td>West Los Angeles</td>\n",
       "      <td>3</td>\n",
       "      <td>93.0</td>\n",
       "      <td>https://a0.muscache.com/im/pictures/068cc064-b...</td>\n",
       "      <td>90064</td>\n",
       "      <td>1.0</td>\n",
       "      <td>1.0</td>\n",
       "    </tr>\n",
       "    <tr>\n",
       "      <th>44240</th>\n",
       "      <td>15220486</td>\n",
       "      <td>5.293305</td>\n",
       "      <td>Apartment</td>\n",
       "      <td>Entire home/apt</td>\n",
       "      <td>{TV,\"Cable TV\",Internet,\"Wireless Internet\",\"A...</td>\n",
       "      <td>8</td>\n",
       "      <td>1.0</td>\n",
       "      <td>strict</td>\n",
       "      <td>True</td>\n",
       "      <td>Chicago</td>\n",
       "      <td>...</td>\n",
       "      <td>41.947665</td>\n",
       "      <td>-87.656500</td>\n",
       "      <td>3 bed Wrigleyville Flat Sleeps 8!</td>\n",
       "      <td>Wrigleyville</td>\n",
       "      <td>70</td>\n",
       "      <td>95.0</td>\n",
       "      <td>NaN</td>\n",
       "      <td>60613</td>\n",
       "      <td>3.0</td>\n",
       "      <td>4.0</td>\n",
       "    </tr>\n",
       "    <tr>\n",
       "      <th>57759</th>\n",
       "      <td>8833630</td>\n",
       "      <td>4.060443</td>\n",
       "      <td>House</td>\n",
       "      <td>Private room</td>\n",
       "      <td>{TV,Internet,\"Wireless Internet\",\"Air conditio...</td>\n",
       "      <td>4</td>\n",
       "      <td>2.5</td>\n",
       "      <td>strict</td>\n",
       "      <td>True</td>\n",
       "      <td>Chicago</td>\n",
       "      <td>...</td>\n",
       "      <td>41.882181</td>\n",
       "      <td>-87.708795</td>\n",
       "      <td>Fort Washington Garden Room</td>\n",
       "      <td>NaN</td>\n",
       "      <td>94</td>\n",
       "      <td>95.0</td>\n",
       "      <td>https://a0.muscache.com/im/pictures/d0704ecc-b...</td>\n",
       "      <td>60624</td>\n",
       "      <td>1.0</td>\n",
       "      <td>2.0</td>\n",
       "    </tr>\n",
       "    <tr>\n",
       "      <th>40254</th>\n",
       "      <td>3571986</td>\n",
       "      <td>4.174387</td>\n",
       "      <td>House</td>\n",
       "      <td>Private room</td>\n",
       "      <td>{\"Wireless Internet\",\"Air conditioning\",Kitche...</td>\n",
       "      <td>4</td>\n",
       "      <td>1.0</td>\n",
       "      <td>moderate</td>\n",
       "      <td>True</td>\n",
       "      <td>LA</td>\n",
       "      <td>...</td>\n",
       "      <td>33.928853</td>\n",
       "      <td>-118.375224</td>\n",
       "      <td>LAX Casa de Paz - Tranquility Room</td>\n",
       "      <td>Hawthorne</td>\n",
       "      <td>68</td>\n",
       "      <td>91.0</td>\n",
       "      <td>https://a0.muscache.com/im/pictures/bf6a2568-2...</td>\n",
       "      <td>90304</td>\n",
       "      <td>1.0</td>\n",
       "      <td>2.0</td>\n",
       "    </tr>\n",
       "  </tbody>\n",
       "</table>\n",
       "<p>5 rows × 28 columns</p>\n",
       "</div>"
      ],
      "text/plain": [
       "             id  log_price property_type        room_type  \\\n",
       "17236  11276421   4.941642     Apartment  Entire home/apt   \n",
       "58369   1634003   4.382027     Apartment     Private room   \n",
       "44240  15220486   5.293305     Apartment  Entire home/apt   \n",
       "57759   8833630   4.060443         House     Private room   \n",
       "40254   3571986   4.174387         House     Private room   \n",
       "\n",
       "                                               amenities  accommodates  \\\n",
       "17236  {TV,\"Cable TV\",\"Wireless Internet\",\"Air condit...             3   \n",
       "58369  {TV,\"Wireless Internet\",Kitchen,\"Free parking ...             1   \n",
       "44240  {TV,\"Cable TV\",Internet,\"Wireless Internet\",\"A...             8   \n",
       "57759  {TV,Internet,\"Wireless Internet\",\"Air conditio...             4   \n",
       "40254  {\"Wireless Internet\",\"Air conditioning\",Kitche...             4   \n",
       "\n",
       "       bathrooms cancellation_policy  cleaning_fee     city  ...   latitude  \\\n",
       "17236        1.0              strict          True   Boston  ...  42.328538   \n",
       "58369        1.0            flexible          True       LA  ...  34.033205   \n",
       "44240        1.0              strict          True  Chicago  ...  41.947665   \n",
       "57759        2.5              strict          True  Chicago  ...  41.882181   \n",
       "40254        1.0            moderate          True       LA  ...  33.928853   \n",
       "\n",
       "        longitude                                             name  \\\n",
       "17236  -71.110867  Stylish 1BR with Outdoor Pool & Fitness Center!   \n",
       "58369 -118.447228                              California Charisma   \n",
       "44240  -87.656500                3 bed Wrigleyville Flat Sleeps 8!   \n",
       "57759  -87.708795                      Fort Washington Garden Room   \n",
       "40254 -118.375224               LAX Casa de Paz - Tranquility Room   \n",
       "\n",
       "          neighbourhood number_of_reviews review_scores_rating  \\\n",
       "17236     Jamaica Plain                 0                  NaN   \n",
       "58369  West Los Angeles                 3                 93.0   \n",
       "44240      Wrigleyville                70                 95.0   \n",
       "57759               NaN                94                 95.0   \n",
       "40254         Hawthorne                68                 91.0   \n",
       "\n",
       "                                           thumbnail_url zipcode  bedrooms  \\\n",
       "17236  https://a0.muscache.com/im/pictures/3aa3bfda-b...    2130       1.0   \n",
       "58369  https://a0.muscache.com/im/pictures/068cc064-b...   90064       1.0   \n",
       "44240                                                NaN   60613       3.0   \n",
       "57759  https://a0.muscache.com/im/pictures/d0704ecc-b...   60624       1.0   \n",
       "40254  https://a0.muscache.com/im/pictures/bf6a2568-2...   90304       1.0   \n",
       "\n",
       "       beds  \n",
       "17236   1.0  \n",
       "58369   1.0  \n",
       "44240   4.0  \n",
       "57759   2.0  \n",
       "40254   2.0  \n",
       "\n",
       "[5 rows x 28 columns]"
      ]
     },
     "execution_count": 76,
     "metadata": {},
     "output_type": "execute_result"
    }
   ],
   "source": [
    "df_test.head()"
   ]
  },
  {
   "cell_type": "markdown",
   "metadata": {},
   "source": [
    "### 3- city"
   ]
  },
  {
   "cell_type": "code",
   "execution_count": 77,
   "metadata": {},
   "outputs": [
    {
     "data": {
      "text/plain": [
       "array(['Boston', 'LA', 'Chicago', 'NYC', 'SF', 'DC'], dtype=object)"
      ]
     },
     "execution_count": 77,
     "metadata": {},
     "output_type": "execute_result"
    }
   ],
   "source": [
    "df_test['city'].unique()"
   ]
  },
  {
   "cell_type": "code",
   "execution_count": 78,
   "metadata": {},
   "outputs": [
    {
     "data": {
      "text/plain": [
       "NYC        18296\n",
       "LA         12554\n",
       "SF          3590\n",
       "DC          3176\n",
       "Chicago     2093\n",
       "Boston      1978\n",
       "Name: city, dtype: int64"
      ]
     },
     "execution_count": 78,
     "metadata": {},
     "output_type": "execute_result"
    }
   ],
   "source": [
    "df_test['city'].value_counts()"
   ]
  },
  {
   "cell_type": "code",
   "execution_count": 79,
   "metadata": {},
   "outputs": [],
   "source": [
    "df_test = pd.concat([df_test, pd.get_dummies(df_test['city'], prefix='city')],axis=1)"
   ]
  },
  {
   "cell_type": "code",
   "execution_count": 80,
   "metadata": {},
   "outputs": [],
   "source": [
    "df_test = df_test.drop(['city'],axis=1)"
   ]
  },
  {
   "cell_type": "code",
   "execution_count": 81,
   "metadata": {},
   "outputs": [
    {
     "data": {
      "text/plain": [
       "id                            0\n",
       "log_price                     0\n",
       "property_type                 0\n",
       "room_type                     0\n",
       "amenities                     0\n",
       "accommodates                  0\n",
       "bathrooms                   116\n",
       "cancellation_policy           0\n",
       "cleaning_fee                  0\n",
       "description                   0\n",
       "first_review               8990\n",
       "host_has_profile_pic        114\n",
       "host_identity_verified      114\n",
       "host_response_rate        10295\n",
       "host_since                  114\n",
       "instant_bookable              0\n",
       "last_review                8970\n",
       "latitude                      0\n",
       "longitude                     0\n",
       "name                          0\n",
       "neighbourhood              3889\n",
       "number_of_reviews             0\n",
       "review_scores_rating       9439\n",
       "thumbnail_url              4559\n",
       "zipcode                     527\n",
       "bedrooms                     43\n",
       "beds                         67\n",
       "city_Boston                   0\n",
       "city_Chicago                  0\n",
       "city_DC                       0\n",
       "city_LA                       0\n",
       "city_NYC                      0\n",
       "city_SF                       0\n",
       "dtype: int64"
      ]
     },
     "execution_count": 81,
     "metadata": {},
     "output_type": "execute_result"
    }
   ],
   "source": [
    "df_test.isna().sum()"
   ]
  },
  {
   "cell_type": "markdown",
   "metadata": {},
   "source": [
    "## 4- property_type"
   ]
  },
  {
   "cell_type": "code",
   "execution_count": 82,
   "metadata": {},
   "outputs": [
    {
     "data": {
      "text/plain": [
       "array(['Apartment', 'House', 'Condominium', 'Loft', 'Townhouse',\n",
       "       'Camper/RV', 'Cabin', 'Boutique hotel', 'Bed & Breakfast',\n",
       "       'Guesthouse', 'Bungalow', 'Other', 'Villa', 'Boat', 'Hostel',\n",
       "       'Guest suite', 'Timeshare', 'Castle', 'In-law', 'Dorm', 'Yurt',\n",
       "       'Vacation home', 'Tent', 'Hut', 'Serviced apartment',\n",
       "       'Earth House', 'Treehouse', 'Lighthouse', 'Train', 'Island',\n",
       "       'Chalet', 'Cave'], dtype=object)"
      ]
     },
     "execution_count": 82,
     "metadata": {},
     "output_type": "execute_result"
    }
   ],
   "source": [
    "df_test.property_type.unique()"
   ]
  },
  {
   "cell_type": "code",
   "execution_count": 83,
   "metadata": {},
   "outputs": [
    {
     "data": {
      "text/plain": [
       "Apartment             27503\n",
       "House                  9320\n",
       "Condominium            1519\n",
       "Townhouse               985\n",
       "Loft                    673\n",
       "Other                   360\n",
       "Guesthouse              279\n",
       "Bed & Breakfast         270\n",
       "Bungalow                201\n",
       "Villa                   100\n",
       "Dorm                     73\n",
       "Guest suite              70\n",
       "Camper/RV                53\n",
       "Timeshare                44\n",
       "Boat                     39\n",
       "Cabin                    37\n",
       "In-law                   34\n",
       "Boutique hotel           34\n",
       "Hostel                   31\n",
       "Serviced apartment       12\n",
       "Tent                     10\n",
       "Castle                    8\n",
       "Vacation home             6\n",
       "Yurt                      5\n",
       "Earth House               4\n",
       "Hut                       4\n",
       "Treehouse                 4\n",
       "Chalet                    3\n",
       "Train                     2\n",
       "Cave                      2\n",
       "Lighthouse                1\n",
       "Island                    1\n",
       "Name: property_type, dtype: int64"
      ]
     },
     "execution_count": 83,
     "metadata": {},
     "output_type": "execute_result"
    }
   ],
   "source": [
    "df_test.property_type.value_counts()"
   ]
  },
  {
   "cell_type": "code",
   "execution_count": 95,
   "metadata": {},
   "outputs": [],
   "source": [
    "nbh_counts = df_test.property_type.value_counts()"
   ]
  },
  {
   "cell_type": "code",
   "execution_count": 103,
   "metadata": {},
   "outputs": [],
   "source": [
    "\n",
    "other_nbhs = list(nbh_counts[nbh_counts <= 600].index)\n",
    "df_test['property_type'] = df_test['property_type'].replace(other_nbhs,\"Other\")"
   ]
  },
  {
   "cell_type": "code",
   "execution_count": null,
   "metadata": {},
   "outputs": [],
   "source": []
  },
  {
   "cell_type": "code",
   "execution_count": 104,
   "metadata": {
    "scrolled": true
   },
   "outputs": [
    {
     "data": {
      "text/plain": [
       "array(['Apartment', 'House', 'Condominium', 'Other'], dtype=object)"
      ]
     },
     "execution_count": 104,
     "metadata": {},
     "output_type": "execute_result"
    }
   ],
   "source": [
    "df_test['property_type'].unique()"
   ]
  },
  {
   "cell_type": "code",
   "execution_count": 105,
   "metadata": {},
   "outputs": [
    {
     "data": {
      "text/plain": [
       "Apartment      27503\n",
       "House           9320\n",
       "Other           3345\n",
       "Condominium     1519\n",
       "Name: property_type, dtype: int64"
      ]
     },
     "execution_count": 105,
     "metadata": {},
     "output_type": "execute_result"
    }
   ],
   "source": [
    "df_test['property_type'].value_counts()"
   ]
  },
  {
   "cell_type": "code",
   "execution_count": 106,
   "metadata": {},
   "outputs": [],
   "source": [
    "df_test = pd.concat([df_test, pd.get_dummies(df_test['property_type'], prefix='property_type')],axis=1)"
   ]
  },
  {
   "cell_type": "code",
   "execution_count": 107,
   "metadata": {},
   "outputs": [
    {
     "data": {
      "text/html": [
       "<div>\n",
       "<style scoped>\n",
       "    .dataframe tbody tr th:only-of-type {\n",
       "        vertical-align: middle;\n",
       "    }\n",
       "\n",
       "    .dataframe tbody tr th {\n",
       "        vertical-align: top;\n",
       "    }\n",
       "\n",
       "    .dataframe thead th {\n",
       "        text-align: right;\n",
       "    }\n",
       "</style>\n",
       "<table border=\"1\" class=\"dataframe\">\n",
       "  <thead>\n",
       "    <tr style=\"text-align: right;\">\n",
       "      <th></th>\n",
       "      <th>id</th>\n",
       "      <th>log_price</th>\n",
       "      <th>property_type</th>\n",
       "      <th>room_type</th>\n",
       "      <th>amenities</th>\n",
       "      <th>accommodates</th>\n",
       "      <th>bathrooms</th>\n",
       "      <th>cancellation_policy</th>\n",
       "      <th>cleaning_fee</th>\n",
       "      <th>description</th>\n",
       "      <th>...</th>\n",
       "      <th>city_Boston</th>\n",
       "      <th>city_Chicago</th>\n",
       "      <th>city_DC</th>\n",
       "      <th>city_LA</th>\n",
       "      <th>city_NYC</th>\n",
       "      <th>city_SF</th>\n",
       "      <th>property_type_Apartment</th>\n",
       "      <th>property_type_Condominium</th>\n",
       "      <th>property_type_House</th>\n",
       "      <th>property_type_Other</th>\n",
       "    </tr>\n",
       "  </thead>\n",
       "  <tbody>\n",
       "    <tr>\n",
       "      <th>17236</th>\n",
       "      <td>11276421</td>\n",
       "      <td>4.941642</td>\n",
       "      <td>Apartment</td>\n",
       "      <td>Entire home/apt</td>\n",
       "      <td>{TV,\"Cable TV\",\"Wireless Internet\",\"Air condit...</td>\n",
       "      <td>3</td>\n",
       "      <td>1.0</td>\n",
       "      <td>3</td>\n",
       "      <td>1</td>\n",
       "      <td>Enjoy a beautiful contemporary residence with ...</td>\n",
       "      <td>...</td>\n",
       "      <td>1</td>\n",
       "      <td>0</td>\n",
       "      <td>0</td>\n",
       "      <td>0</td>\n",
       "      <td>0</td>\n",
       "      <td>0</td>\n",
       "      <td>1</td>\n",
       "      <td>0</td>\n",
       "      <td>0</td>\n",
       "      <td>0</td>\n",
       "    </tr>\n",
       "    <tr>\n",
       "      <th>58369</th>\n",
       "      <td>1634003</td>\n",
       "      <td>4.382027</td>\n",
       "      <td>Apartment</td>\n",
       "      <td>Private room</td>\n",
       "      <td>{TV,\"Wireless Internet\",Kitchen,\"Free parking ...</td>\n",
       "      <td>1</td>\n",
       "      <td>1.0</td>\n",
       "      <td>1</td>\n",
       "      <td>1</td>\n",
       "      <td>My place is close to Don Antonio's, Metro Expo...</td>\n",
       "      <td>...</td>\n",
       "      <td>0</td>\n",
       "      <td>0</td>\n",
       "      <td>0</td>\n",
       "      <td>1</td>\n",
       "      <td>0</td>\n",
       "      <td>0</td>\n",
       "      <td>1</td>\n",
       "      <td>0</td>\n",
       "      <td>0</td>\n",
       "      <td>0</td>\n",
       "    </tr>\n",
       "    <tr>\n",
       "      <th>44240</th>\n",
       "      <td>15220486</td>\n",
       "      <td>5.293305</td>\n",
       "      <td>Apartment</td>\n",
       "      <td>Entire home/apt</td>\n",
       "      <td>{TV,\"Cable TV\",Internet,\"Wireless Internet\",\"A...</td>\n",
       "      <td>8</td>\n",
       "      <td>1.0</td>\n",
       "      <td>3</td>\n",
       "      <td>1</td>\n",
       "      <td>Stay one block from Wrigley Field! This renova...</td>\n",
       "      <td>...</td>\n",
       "      <td>0</td>\n",
       "      <td>1</td>\n",
       "      <td>0</td>\n",
       "      <td>0</td>\n",
       "      <td>0</td>\n",
       "      <td>0</td>\n",
       "      <td>1</td>\n",
       "      <td>0</td>\n",
       "      <td>0</td>\n",
       "      <td>0</td>\n",
       "    </tr>\n",
       "    <tr>\n",
       "      <th>57759</th>\n",
       "      <td>8833630</td>\n",
       "      <td>4.060443</td>\n",
       "      <td>House</td>\n",
       "      <td>Private room</td>\n",
       "      <td>{TV,Internet,\"Wireless Internet\",\"Air conditio...</td>\n",
       "      <td>4</td>\n",
       "      <td>2.5</td>\n",
       "      <td>3</td>\n",
       "      <td>1</td>\n",
       "      <td>This room is in the lower level of Fort Washin...</td>\n",
       "      <td>...</td>\n",
       "      <td>0</td>\n",
       "      <td>1</td>\n",
       "      <td>0</td>\n",
       "      <td>0</td>\n",
       "      <td>0</td>\n",
       "      <td>0</td>\n",
       "      <td>0</td>\n",
       "      <td>0</td>\n",
       "      <td>1</td>\n",
       "      <td>0</td>\n",
       "    </tr>\n",
       "    <tr>\n",
       "      <th>40254</th>\n",
       "      <td>3571986</td>\n",
       "      <td>4.174387</td>\n",
       "      <td>House</td>\n",
       "      <td>Private room</td>\n",
       "      <td>{\"Wireless Internet\",\"Air conditioning\",Kitche...</td>\n",
       "      <td>4</td>\n",
       "      <td>1.0</td>\n",
       "      <td>2</td>\n",
       "      <td>1</td>\n",
       "      <td>Welcome to your home away from home! Cozy priv...</td>\n",
       "      <td>...</td>\n",
       "      <td>0</td>\n",
       "      <td>0</td>\n",
       "      <td>0</td>\n",
       "      <td>1</td>\n",
       "      <td>0</td>\n",
       "      <td>0</td>\n",
       "      <td>0</td>\n",
       "      <td>0</td>\n",
       "      <td>1</td>\n",
       "      <td>0</td>\n",
       "    </tr>\n",
       "  </tbody>\n",
       "</table>\n",
       "<p>5 rows × 37 columns</p>\n",
       "</div>"
      ],
      "text/plain": [
       "             id  log_price property_type        room_type  \\\n",
       "17236  11276421   4.941642     Apartment  Entire home/apt   \n",
       "58369   1634003   4.382027     Apartment     Private room   \n",
       "44240  15220486   5.293305     Apartment  Entire home/apt   \n",
       "57759   8833630   4.060443         House     Private room   \n",
       "40254   3571986   4.174387         House     Private room   \n",
       "\n",
       "                                               amenities  accommodates  \\\n",
       "17236  {TV,\"Cable TV\",\"Wireless Internet\",\"Air condit...             3   \n",
       "58369  {TV,\"Wireless Internet\",Kitchen,\"Free parking ...             1   \n",
       "44240  {TV,\"Cable TV\",Internet,\"Wireless Internet\",\"A...             8   \n",
       "57759  {TV,Internet,\"Wireless Internet\",\"Air conditio...             4   \n",
       "40254  {\"Wireless Internet\",\"Air conditioning\",Kitche...             4   \n",
       "\n",
       "       bathrooms  cancellation_policy  cleaning_fee  \\\n",
       "17236        1.0                    3             1   \n",
       "58369        1.0                    1             1   \n",
       "44240        1.0                    3             1   \n",
       "57759        2.5                    3             1   \n",
       "40254        1.0                    2             1   \n",
       "\n",
       "                                             description  ... city_Boston  \\\n",
       "17236  Enjoy a beautiful contemporary residence with ...  ...           1   \n",
       "58369  My place is close to Don Antonio's, Metro Expo...  ...           0   \n",
       "44240  Stay one block from Wrigley Field! This renova...  ...           0   \n",
       "57759  This room is in the lower level of Fort Washin...  ...           0   \n",
       "40254  Welcome to your home away from home! Cozy priv...  ...           0   \n",
       "\n",
       "      city_Chicago city_DC city_LA city_NYC city_SF property_type_Apartment  \\\n",
       "17236            0       0       0        0       0                       1   \n",
       "58369            0       0       1        0       0                       1   \n",
       "44240            1       0       0        0       0                       1   \n",
       "57759            1       0       0        0       0                       0   \n",
       "40254            0       0       1        0       0                       0   \n",
       "\n",
       "       property_type_Condominium  property_type_House property_type_Other  \n",
       "17236                          0                    0                   0  \n",
       "58369                          0                    0                   0  \n",
       "44240                          0                    0                   0  \n",
       "57759                          0                    1                   0  \n",
       "40254                          0                    1                   0  \n",
       "\n",
       "[5 rows x 37 columns]"
      ]
     },
     "execution_count": 107,
     "metadata": {},
     "output_type": "execute_result"
    }
   ],
   "source": [
    "df_test.head()"
   ]
  },
  {
   "cell_type": "code",
   "execution_count": 108,
   "metadata": {},
   "outputs": [],
   "source": [
    "df_test = df_test.drop(['property_type'],axis=1)"
   ]
  },
  {
   "cell_type": "code",
   "execution_count": null,
   "metadata": {},
   "outputs": [],
   "source": [
    "\n",
    "#property_type_dict1 = {'Apartment':['Condominium','Loft','Serviced apartment','Guest suite'],\n",
    "# 'House':['Vacation home','Villa','Townhouse','In-law','Casa particular'],\n",
    "#    'Hotel1':['Dorm','Hostel','Guesthouse'],\n",
    "#     'Hotel2':['Boutique hotel','Bed & Breakfast'],\n",
    "#     'Timeshare':['Timeshare'],\n",
    "#    'Other':['Island','Castle','Yurt','Hut','Chalet','Treehouse',\n",
    "#            'Earth House','Tipi','Cave','Train','Parking Space','Lighthouse',\n",
    "#          'Tent','Boat','Cabin','Camper/RV','Bungalow']\n",
    "# }\n",
    "\n",
    "#property_type_dict2 = {i : k for k, v in property_type_dict1.items() for i in v}\n",
    "\n",
    "#df1['property_group'] = df1['property_type'].replace(property_type_dict2)\n",
    "\n",
    "#df1.drop('property_type',axis=1,inplace=True)\n",
    "\n"
   ]
  },
  {
   "cell_type": "code",
   "execution_count": null,
   "metadata": {
    "scrolled": true
   },
   "outputs": [],
   "source": [
    "#df1['property_group']"
   ]
  },
  {
   "cell_type": "code",
   "execution_count": null,
   "metadata": {},
   "outputs": [],
   "source": [
    "#df1 = pd.concat([df1, pd.get_dummies(df1['property_group'], prefix='property_group')],axis=1)"
   ]
  },
  {
   "cell_type": "code",
   "execution_count": null,
   "metadata": {},
   "outputs": [],
   "source": [
    "#df1 = df1.drop(['property_group'],axis=1)"
   ]
  },
  {
   "cell_type": "code",
   "execution_count": null,
   "metadata": {},
   "outputs": [],
   "source": [
    "#df1"
   ]
  },
  {
   "cell_type": "markdown",
   "metadata": {},
   "source": [
    "## 5-cancellation_policy"
   ]
  },
  {
   "cell_type": "code",
   "execution_count": 86,
   "metadata": {
    "scrolled": true
   },
   "outputs": [
    {
     "data": {
      "text/plain": [
       "array(['strict', 'flexible', 'moderate', 'super_strict_30',\n",
       "       'super_strict_60'], dtype=object)"
      ]
     },
     "execution_count": 86,
     "metadata": {},
     "output_type": "execute_result"
    }
   ],
   "source": [
    "df_test['cancellation_policy'].unique()"
   ]
  },
  {
   "cell_type": "code",
   "execution_count": 87,
   "metadata": {},
   "outputs": [
    {
     "data": {
      "text/plain": [
       "strict             18226\n",
       "flexible           12748\n",
       "moderate           10645\n",
       "super_strict_30       57\n",
       "super_strict_60       11\n",
       "Name: cancellation_policy, dtype: int64"
      ]
     },
     "execution_count": 87,
     "metadata": {},
     "output_type": "execute_result"
    }
   ],
   "source": [
    "df_test['cancellation_policy'].value_counts()"
   ]
  },
  {
   "cell_type": "code",
   "execution_count": 88,
   "metadata": {},
   "outputs": [],
   "source": [
    "def cancellation_policy_cleaning(x):\n",
    "    if x=='super_strict_60':\n",
    "        x= 5\n",
    "    elif x=='super_strict_30':\n",
    "        x= 4\n",
    "    elif x=='strict':\n",
    "        x= 3\n",
    "    elif x=='moderate':\n",
    "        x= 2\n",
    "    elif x=='flexible':\n",
    "        x= 1     \n",
    "    return x\n",
    "df_test['cancellation_policy']=df_test['cancellation_policy'].map(lambda x: cancellation_policy_cleaning(x))"
   ]
  },
  {
   "cell_type": "code",
   "execution_count": 89,
   "metadata": {},
   "outputs": [
    {
     "data": {
      "text/plain": [
       "3    18226\n",
       "1    12748\n",
       "2    10645\n",
       "4       57\n",
       "5       11\n",
       "Name: cancellation_policy, dtype: int64"
      ]
     },
     "execution_count": 89,
     "metadata": {},
     "output_type": "execute_result"
    }
   ],
   "source": [
    "df_test['cancellation_policy'].value_counts()"
   ]
  },
  {
   "cell_type": "code",
   "execution_count": 90,
   "metadata": {},
   "outputs": [
    {
     "data": {
      "text/html": [
       "<div>\n",
       "<style scoped>\n",
       "    .dataframe tbody tr th:only-of-type {\n",
       "        vertical-align: middle;\n",
       "    }\n",
       "\n",
       "    .dataframe tbody tr th {\n",
       "        vertical-align: top;\n",
       "    }\n",
       "\n",
       "    .dataframe thead th {\n",
       "        text-align: right;\n",
       "    }\n",
       "</style>\n",
       "<table border=\"1\" class=\"dataframe\">\n",
       "  <thead>\n",
       "    <tr style=\"text-align: right;\">\n",
       "      <th></th>\n",
       "      <th>id</th>\n",
       "      <th>log_price</th>\n",
       "      <th>property_type</th>\n",
       "      <th>room_type</th>\n",
       "      <th>amenities</th>\n",
       "      <th>accommodates</th>\n",
       "      <th>bathrooms</th>\n",
       "      <th>cancellation_policy</th>\n",
       "      <th>cleaning_fee</th>\n",
       "      <th>description</th>\n",
       "      <th>...</th>\n",
       "      <th>thumbnail_url</th>\n",
       "      <th>zipcode</th>\n",
       "      <th>bedrooms</th>\n",
       "      <th>beds</th>\n",
       "      <th>city_Boston</th>\n",
       "      <th>city_Chicago</th>\n",
       "      <th>city_DC</th>\n",
       "      <th>city_LA</th>\n",
       "      <th>city_NYC</th>\n",
       "      <th>city_SF</th>\n",
       "    </tr>\n",
       "  </thead>\n",
       "  <tbody>\n",
       "    <tr>\n",
       "      <th>17236</th>\n",
       "      <td>11276421</td>\n",
       "      <td>4.941642</td>\n",
       "      <td>Apartment</td>\n",
       "      <td>Entire home/apt</td>\n",
       "      <td>{TV,\"Cable TV\",\"Wireless Internet\",\"Air condit...</td>\n",
       "      <td>3</td>\n",
       "      <td>1.0</td>\n",
       "      <td>3</td>\n",
       "      <td>True</td>\n",
       "      <td>Enjoy a beautiful contemporary residence with ...</td>\n",
       "      <td>...</td>\n",
       "      <td>https://a0.muscache.com/im/pictures/3aa3bfda-b...</td>\n",
       "      <td>2130</td>\n",
       "      <td>1.0</td>\n",
       "      <td>1.0</td>\n",
       "      <td>1</td>\n",
       "      <td>0</td>\n",
       "      <td>0</td>\n",
       "      <td>0</td>\n",
       "      <td>0</td>\n",
       "      <td>0</td>\n",
       "    </tr>\n",
       "    <tr>\n",
       "      <th>58369</th>\n",
       "      <td>1634003</td>\n",
       "      <td>4.382027</td>\n",
       "      <td>Apartment</td>\n",
       "      <td>Private room</td>\n",
       "      <td>{TV,\"Wireless Internet\",Kitchen,\"Free parking ...</td>\n",
       "      <td>1</td>\n",
       "      <td>1.0</td>\n",
       "      <td>1</td>\n",
       "      <td>True</td>\n",
       "      <td>My place is close to Don Antonio's, Metro Expo...</td>\n",
       "      <td>...</td>\n",
       "      <td>https://a0.muscache.com/im/pictures/068cc064-b...</td>\n",
       "      <td>90064</td>\n",
       "      <td>1.0</td>\n",
       "      <td>1.0</td>\n",
       "      <td>0</td>\n",
       "      <td>0</td>\n",
       "      <td>0</td>\n",
       "      <td>1</td>\n",
       "      <td>0</td>\n",
       "      <td>0</td>\n",
       "    </tr>\n",
       "    <tr>\n",
       "      <th>44240</th>\n",
       "      <td>15220486</td>\n",
       "      <td>5.293305</td>\n",
       "      <td>Apartment</td>\n",
       "      <td>Entire home/apt</td>\n",
       "      <td>{TV,\"Cable TV\",Internet,\"Wireless Internet\",\"A...</td>\n",
       "      <td>8</td>\n",
       "      <td>1.0</td>\n",
       "      <td>3</td>\n",
       "      <td>True</td>\n",
       "      <td>Stay one block from Wrigley Field! This renova...</td>\n",
       "      <td>...</td>\n",
       "      <td>NaN</td>\n",
       "      <td>60613</td>\n",
       "      <td>3.0</td>\n",
       "      <td>4.0</td>\n",
       "      <td>0</td>\n",
       "      <td>1</td>\n",
       "      <td>0</td>\n",
       "      <td>0</td>\n",
       "      <td>0</td>\n",
       "      <td>0</td>\n",
       "    </tr>\n",
       "    <tr>\n",
       "      <th>57759</th>\n",
       "      <td>8833630</td>\n",
       "      <td>4.060443</td>\n",
       "      <td>House</td>\n",
       "      <td>Private room</td>\n",
       "      <td>{TV,Internet,\"Wireless Internet\",\"Air conditio...</td>\n",
       "      <td>4</td>\n",
       "      <td>2.5</td>\n",
       "      <td>3</td>\n",
       "      <td>True</td>\n",
       "      <td>This room is in the lower level of Fort Washin...</td>\n",
       "      <td>...</td>\n",
       "      <td>https://a0.muscache.com/im/pictures/d0704ecc-b...</td>\n",
       "      <td>60624</td>\n",
       "      <td>1.0</td>\n",
       "      <td>2.0</td>\n",
       "      <td>0</td>\n",
       "      <td>1</td>\n",
       "      <td>0</td>\n",
       "      <td>0</td>\n",
       "      <td>0</td>\n",
       "      <td>0</td>\n",
       "    </tr>\n",
       "    <tr>\n",
       "      <th>40254</th>\n",
       "      <td>3571986</td>\n",
       "      <td>4.174387</td>\n",
       "      <td>House</td>\n",
       "      <td>Private room</td>\n",
       "      <td>{\"Wireless Internet\",\"Air conditioning\",Kitche...</td>\n",
       "      <td>4</td>\n",
       "      <td>1.0</td>\n",
       "      <td>2</td>\n",
       "      <td>True</td>\n",
       "      <td>Welcome to your home away from home! Cozy priv...</td>\n",
       "      <td>...</td>\n",
       "      <td>https://a0.muscache.com/im/pictures/bf6a2568-2...</td>\n",
       "      <td>90304</td>\n",
       "      <td>1.0</td>\n",
       "      <td>2.0</td>\n",
       "      <td>0</td>\n",
       "      <td>0</td>\n",
       "      <td>0</td>\n",
       "      <td>1</td>\n",
       "      <td>0</td>\n",
       "      <td>0</td>\n",
       "    </tr>\n",
       "  </tbody>\n",
       "</table>\n",
       "<p>5 rows × 33 columns</p>\n",
       "</div>"
      ],
      "text/plain": [
       "             id  log_price property_type        room_type  \\\n",
       "17236  11276421   4.941642     Apartment  Entire home/apt   \n",
       "58369   1634003   4.382027     Apartment     Private room   \n",
       "44240  15220486   5.293305     Apartment  Entire home/apt   \n",
       "57759   8833630   4.060443         House     Private room   \n",
       "40254   3571986   4.174387         House     Private room   \n",
       "\n",
       "                                               amenities  accommodates  \\\n",
       "17236  {TV,\"Cable TV\",\"Wireless Internet\",\"Air condit...             3   \n",
       "58369  {TV,\"Wireless Internet\",Kitchen,\"Free parking ...             1   \n",
       "44240  {TV,\"Cable TV\",Internet,\"Wireless Internet\",\"A...             8   \n",
       "57759  {TV,Internet,\"Wireless Internet\",\"Air conditio...             4   \n",
       "40254  {\"Wireless Internet\",\"Air conditioning\",Kitche...             4   \n",
       "\n",
       "       bathrooms  cancellation_policy  cleaning_fee  \\\n",
       "17236        1.0                    3          True   \n",
       "58369        1.0                    1          True   \n",
       "44240        1.0                    3          True   \n",
       "57759        2.5                    3          True   \n",
       "40254        1.0                    2          True   \n",
       "\n",
       "                                             description  ...  \\\n",
       "17236  Enjoy a beautiful contemporary residence with ...  ...   \n",
       "58369  My place is close to Don Antonio's, Metro Expo...  ...   \n",
       "44240  Stay one block from Wrigley Field! This renova...  ...   \n",
       "57759  This room is in the lower level of Fort Washin...  ...   \n",
       "40254  Welcome to your home away from home! Cozy priv...  ...   \n",
       "\n",
       "                                           thumbnail_url zipcode bedrooms  \\\n",
       "17236  https://a0.muscache.com/im/pictures/3aa3bfda-b...    2130      1.0   \n",
       "58369  https://a0.muscache.com/im/pictures/068cc064-b...   90064      1.0   \n",
       "44240                                                NaN   60613      3.0   \n",
       "57759  https://a0.muscache.com/im/pictures/d0704ecc-b...   60624      1.0   \n",
       "40254  https://a0.muscache.com/im/pictures/bf6a2568-2...   90304      1.0   \n",
       "\n",
       "      beds city_Boston city_Chicago city_DC  city_LA  city_NYC city_SF  \n",
       "17236  1.0           1            0       0        0         0       0  \n",
       "58369  1.0           0            0       0        1         0       0  \n",
       "44240  4.0           0            1       0        0         0       0  \n",
       "57759  2.0           0            1       0        0         0       0  \n",
       "40254  2.0           0            0       0        1         0       0  \n",
       "\n",
       "[5 rows x 33 columns]"
      ]
     },
     "execution_count": 90,
     "metadata": {},
     "output_type": "execute_result"
    }
   ],
   "source": [
    "df_test.head()"
   ]
  },
  {
   "cell_type": "markdown",
   "metadata": {},
   "source": [
    "## 6-cleaning_fee and host_identity_verified"
   ]
  },
  {
   "cell_type": "code",
   "execution_count": 91,
   "metadata": {},
   "outputs": [],
   "source": [
    "df_test.replace(to_replace = True , value = 1,inplace=True) \n",
    "df_test.replace(to_replace = False , value = 0,inplace=True)"
   ]
  },
  {
   "cell_type": "code",
   "execution_count": 92,
   "metadata": {},
   "outputs": [
    {
     "data": {
      "text/html": [
       "<div>\n",
       "<style scoped>\n",
       "    .dataframe tbody tr th:only-of-type {\n",
       "        vertical-align: middle;\n",
       "    }\n",
       "\n",
       "    .dataframe tbody tr th {\n",
       "        vertical-align: top;\n",
       "    }\n",
       "\n",
       "    .dataframe thead th {\n",
       "        text-align: right;\n",
       "    }\n",
       "</style>\n",
       "<table border=\"1\" class=\"dataframe\">\n",
       "  <thead>\n",
       "    <tr style=\"text-align: right;\">\n",
       "      <th></th>\n",
       "      <th>id</th>\n",
       "      <th>log_price</th>\n",
       "      <th>property_type</th>\n",
       "      <th>room_type</th>\n",
       "      <th>amenities</th>\n",
       "      <th>accommodates</th>\n",
       "      <th>bathrooms</th>\n",
       "      <th>cancellation_policy</th>\n",
       "      <th>cleaning_fee</th>\n",
       "      <th>description</th>\n",
       "      <th>...</th>\n",
       "      <th>thumbnail_url</th>\n",
       "      <th>zipcode</th>\n",
       "      <th>bedrooms</th>\n",
       "      <th>beds</th>\n",
       "      <th>city_Boston</th>\n",
       "      <th>city_Chicago</th>\n",
       "      <th>city_DC</th>\n",
       "      <th>city_LA</th>\n",
       "      <th>city_NYC</th>\n",
       "      <th>city_SF</th>\n",
       "    </tr>\n",
       "  </thead>\n",
       "  <tbody>\n",
       "    <tr>\n",
       "      <th>17236</th>\n",
       "      <td>11276421</td>\n",
       "      <td>4.941642</td>\n",
       "      <td>Apartment</td>\n",
       "      <td>Entire home/apt</td>\n",
       "      <td>{TV,\"Cable TV\",\"Wireless Internet\",\"Air condit...</td>\n",
       "      <td>3</td>\n",
       "      <td>1.0</td>\n",
       "      <td>3</td>\n",
       "      <td>1</td>\n",
       "      <td>Enjoy a beautiful contemporary residence with ...</td>\n",
       "      <td>...</td>\n",
       "      <td>https://a0.muscache.com/im/pictures/3aa3bfda-b...</td>\n",
       "      <td>2130</td>\n",
       "      <td>1.0</td>\n",
       "      <td>1.0</td>\n",
       "      <td>1</td>\n",
       "      <td>0</td>\n",
       "      <td>0</td>\n",
       "      <td>0</td>\n",
       "      <td>0</td>\n",
       "      <td>0</td>\n",
       "    </tr>\n",
       "    <tr>\n",
       "      <th>58369</th>\n",
       "      <td>1634003</td>\n",
       "      <td>4.382027</td>\n",
       "      <td>Apartment</td>\n",
       "      <td>Private room</td>\n",
       "      <td>{TV,\"Wireless Internet\",Kitchen,\"Free parking ...</td>\n",
       "      <td>1</td>\n",
       "      <td>1.0</td>\n",
       "      <td>1</td>\n",
       "      <td>1</td>\n",
       "      <td>My place is close to Don Antonio's, Metro Expo...</td>\n",
       "      <td>...</td>\n",
       "      <td>https://a0.muscache.com/im/pictures/068cc064-b...</td>\n",
       "      <td>90064</td>\n",
       "      <td>1.0</td>\n",
       "      <td>1.0</td>\n",
       "      <td>0</td>\n",
       "      <td>0</td>\n",
       "      <td>0</td>\n",
       "      <td>1</td>\n",
       "      <td>0</td>\n",
       "      <td>0</td>\n",
       "    </tr>\n",
       "    <tr>\n",
       "      <th>44240</th>\n",
       "      <td>15220486</td>\n",
       "      <td>5.293305</td>\n",
       "      <td>Apartment</td>\n",
       "      <td>Entire home/apt</td>\n",
       "      <td>{TV,\"Cable TV\",Internet,\"Wireless Internet\",\"A...</td>\n",
       "      <td>8</td>\n",
       "      <td>1.0</td>\n",
       "      <td>3</td>\n",
       "      <td>1</td>\n",
       "      <td>Stay one block from Wrigley Field! This renova...</td>\n",
       "      <td>...</td>\n",
       "      <td>NaN</td>\n",
       "      <td>60613</td>\n",
       "      <td>3.0</td>\n",
       "      <td>4.0</td>\n",
       "      <td>0</td>\n",
       "      <td>1</td>\n",
       "      <td>0</td>\n",
       "      <td>0</td>\n",
       "      <td>0</td>\n",
       "      <td>0</td>\n",
       "    </tr>\n",
       "    <tr>\n",
       "      <th>57759</th>\n",
       "      <td>8833630</td>\n",
       "      <td>4.060443</td>\n",
       "      <td>House</td>\n",
       "      <td>Private room</td>\n",
       "      <td>{TV,Internet,\"Wireless Internet\",\"Air conditio...</td>\n",
       "      <td>4</td>\n",
       "      <td>2.5</td>\n",
       "      <td>3</td>\n",
       "      <td>1</td>\n",
       "      <td>This room is in the lower level of Fort Washin...</td>\n",
       "      <td>...</td>\n",
       "      <td>https://a0.muscache.com/im/pictures/d0704ecc-b...</td>\n",
       "      <td>60624</td>\n",
       "      <td>1.0</td>\n",
       "      <td>2.0</td>\n",
       "      <td>0</td>\n",
       "      <td>1</td>\n",
       "      <td>0</td>\n",
       "      <td>0</td>\n",
       "      <td>0</td>\n",
       "      <td>0</td>\n",
       "    </tr>\n",
       "    <tr>\n",
       "      <th>40254</th>\n",
       "      <td>3571986</td>\n",
       "      <td>4.174387</td>\n",
       "      <td>House</td>\n",
       "      <td>Private room</td>\n",
       "      <td>{\"Wireless Internet\",\"Air conditioning\",Kitche...</td>\n",
       "      <td>4</td>\n",
       "      <td>1.0</td>\n",
       "      <td>2</td>\n",
       "      <td>1</td>\n",
       "      <td>Welcome to your home away from home! Cozy priv...</td>\n",
       "      <td>...</td>\n",
       "      <td>https://a0.muscache.com/im/pictures/bf6a2568-2...</td>\n",
       "      <td>90304</td>\n",
       "      <td>1.0</td>\n",
       "      <td>2.0</td>\n",
       "      <td>0</td>\n",
       "      <td>0</td>\n",
       "      <td>0</td>\n",
       "      <td>1</td>\n",
       "      <td>0</td>\n",
       "      <td>0</td>\n",
       "    </tr>\n",
       "  </tbody>\n",
       "</table>\n",
       "<p>5 rows × 33 columns</p>\n",
       "</div>"
      ],
      "text/plain": [
       "             id  log_price property_type        room_type  \\\n",
       "17236  11276421   4.941642     Apartment  Entire home/apt   \n",
       "58369   1634003   4.382027     Apartment     Private room   \n",
       "44240  15220486   5.293305     Apartment  Entire home/apt   \n",
       "57759   8833630   4.060443         House     Private room   \n",
       "40254   3571986   4.174387         House     Private room   \n",
       "\n",
       "                                               amenities  accommodates  \\\n",
       "17236  {TV,\"Cable TV\",\"Wireless Internet\",\"Air condit...             3   \n",
       "58369  {TV,\"Wireless Internet\",Kitchen,\"Free parking ...             1   \n",
       "44240  {TV,\"Cable TV\",Internet,\"Wireless Internet\",\"A...             8   \n",
       "57759  {TV,Internet,\"Wireless Internet\",\"Air conditio...             4   \n",
       "40254  {\"Wireless Internet\",\"Air conditioning\",Kitche...             4   \n",
       "\n",
       "       bathrooms  cancellation_policy  cleaning_fee  \\\n",
       "17236        1.0                    3             1   \n",
       "58369        1.0                    1             1   \n",
       "44240        1.0                    3             1   \n",
       "57759        2.5                    3             1   \n",
       "40254        1.0                    2             1   \n",
       "\n",
       "                                             description  ...  \\\n",
       "17236  Enjoy a beautiful contemporary residence with ...  ...   \n",
       "58369  My place is close to Don Antonio's, Metro Expo...  ...   \n",
       "44240  Stay one block from Wrigley Field! This renova...  ...   \n",
       "57759  This room is in the lower level of Fort Washin...  ...   \n",
       "40254  Welcome to your home away from home! Cozy priv...  ...   \n",
       "\n",
       "                                           thumbnail_url zipcode bedrooms  \\\n",
       "17236  https://a0.muscache.com/im/pictures/3aa3bfda-b...    2130      1.0   \n",
       "58369  https://a0.muscache.com/im/pictures/068cc064-b...   90064      1.0   \n",
       "44240                                                NaN   60613      3.0   \n",
       "57759  https://a0.muscache.com/im/pictures/d0704ecc-b...   60624      1.0   \n",
       "40254  https://a0.muscache.com/im/pictures/bf6a2568-2...   90304      1.0   \n",
       "\n",
       "      beds city_Boston city_Chicago city_DC  city_LA  city_NYC city_SF  \n",
       "17236  1.0           1            0       0        0         0       0  \n",
       "58369  1.0           0            0       0        1         0       0  \n",
       "44240  4.0           0            1       0        0         0       0  \n",
       "57759  2.0           0            1       0        0         0       0  \n",
       "40254  2.0           0            0       0        1         0       0  \n",
       "\n",
       "[5 rows x 33 columns]"
      ]
     },
     "execution_count": 92,
     "metadata": {},
     "output_type": "execute_result"
    }
   ],
   "source": [
    "df_test.head()"
   ]
  },
  {
   "cell_type": "code",
   "execution_count": 93,
   "metadata": {},
   "outputs": [
    {
     "name": "stdout",
     "output_type": "stream",
     "text": [
      "<class 'pandas.core.frame.DataFrame'>\n",
      "Int64Index: 41687 entries, 17236 to 68913\n",
      "Data columns (total 33 columns):\n",
      " #   Column                  Non-Null Count  Dtype  \n",
      "---  ------                  --------------  -----  \n",
      " 0   id                      41687 non-null  int64  \n",
      " 1   log_price               41687 non-null  float64\n",
      " 2   property_type           41687 non-null  object \n",
      " 3   room_type               41687 non-null  object \n",
      " 4   amenities               41687 non-null  object \n",
      " 5   accommodates            41687 non-null  int64  \n",
      " 6   bathrooms               41571 non-null  float64\n",
      " 7   cancellation_policy     41687 non-null  int64  \n",
      " 8   cleaning_fee            41687 non-null  int64  \n",
      " 9   description             41687 non-null  object \n",
      " 10  first_review            32697 non-null  object \n",
      " 11  host_has_profile_pic    41573 non-null  object \n",
      " 12  host_identity_verified  41573 non-null  object \n",
      " 13  host_response_rate      31392 non-null  object \n",
      " 14  host_since              41573 non-null  object \n",
      " 15  instant_bookable        41687 non-null  object \n",
      " 16  last_review             32717 non-null  object \n",
      " 17  latitude                41687 non-null  float64\n",
      " 18  longitude               41687 non-null  float64\n",
      " 19  name                    41687 non-null  object \n",
      " 20  neighbourhood           37798 non-null  object \n",
      " 21  number_of_reviews       41687 non-null  int64  \n",
      " 22  review_scores_rating    32248 non-null  float64\n",
      " 23  thumbnail_url           37128 non-null  object \n",
      " 24  zipcode                 41160 non-null  object \n",
      " 25  bedrooms                41644 non-null  float64\n",
      " 26  beds                    41620 non-null  float64\n",
      " 27  city_Boston             41687 non-null  uint8  \n",
      " 28  city_Chicago            41687 non-null  uint8  \n",
      " 29  city_DC                 41687 non-null  uint8  \n",
      " 30  city_LA                 41687 non-null  uint8  \n",
      " 31  city_NYC                41687 non-null  uint8  \n",
      " 32  city_SF                 41687 non-null  uint8  \n",
      "dtypes: float64(7), int64(5), object(15), uint8(6)\n",
      "memory usage: 9.1+ MB\n"
     ]
    }
   ],
   "source": [
    "df_test.info()"
   ]
  },
  {
   "cell_type": "markdown",
   "metadata": {},
   "source": [
    "# Validation Method: Train / Validation / Test"
   ]
  },
  {
   "cell_type": "code",
   "execution_count": null,
   "metadata": {},
   "outputs": [],
   "source": [
    "#df_train.head()"
   ]
  },
  {
   "cell_type": "code",
   "execution_count": null,
   "metadata": {},
   "outputs": [],
   "source": [
    "#from sklearn.model_selection import train_test_split, GridSearchCV"
   ]
  },
  {
   "cell_type": "code",
   "execution_count": null,
   "metadata": {},
   "outputs": [],
   "source": [
    "#X, y = df1.drop(['log_price'],axis=1), df1['log_price']"
   ]
  },
  {
   "cell_type": "code",
   "execution_count": null,
   "metadata": {},
   "outputs": [],
   "source": [
    "#X, X_test, y, y_test = train_test_split(X, y, test_size=.2, random_state=10)"
   ]
  },
  {
   "cell_type": "code",
   "execution_count": null,
   "metadata": {},
   "outputs": [],
   "source": [
    "#X_train, X_val, y_train, y_val = train_test_split(X, y, test_size=.25, random_state=3)"
   ]
  },
  {
   "cell_type": "markdown",
   "metadata": {},
   "source": [
    "# Model Buildig "
   ]
  },
  {
   "cell_type": "code",
   "execution_count": null,
   "metadata": {},
   "outputs": [],
   "source": [
    "from sklearn.linear_model import LinearRegression, Ridge, Lasso #ordinary linear regression + w/ ridge regularization\n",
    "from sklearn.preprocessing import StandardScaler, PolynomialFeatures"
   ]
  },
  {
   "cell_type": "code",
   "execution_count": null,
   "metadata": {},
   "outputs": [],
   "source": [
    "import statsmodels.api as sm\n",
    "import statsmodels.formula.api as smf\n",
    "import patsy \n",
    "import scipy.stats as stats"
   ]
  },
  {
   "cell_type": "code",
   "execution_count": null,
   "metadata": {},
   "outputs": [],
   "source": [
    "X_train, y_train = df_train.drop(['log_price'],axis=1), df_train['log_price']"
   ]
  },
  {
   "cell_type": "code",
   "execution_count": null,
   "metadata": {
    "scrolled": true
   },
   "outputs": [],
   "source": [
    "# fit model \n",
    "model = sm.OLS(y_train, X_train, data=df_train)\n",
    "\n",
    "results = model.fit()\n",
    "\n",
    "# summarize our model\n",
    "results.summary()"
   ]
  },
  {
   "cell_type": "code",
   "execution_count": null,
   "metadata": {},
   "outputs": [],
   "source": [
    "from sklearn import metrics\n",
    "\n",
    "def print_evaluate(true,predicted):\n",
    "    mae = metrics.mean_absolute_error(true,predicted)\n",
    "    mse = metrics.mean_squared_error(true, predicted)\n",
    "    rmse = np.sqrt(metrics.mean_squared_error(true,predicted))\n",
    "    r2_square = metrics.r2_score(true, predicted)\n",
    "    print('\\nMAE:', mae)\n",
    "    \n",
    "    print('\\nMSE:', mse)\n",
    "    print('\\nRMSE:', rmse)\n",
    "    print('\\nR2 Square', r2_square)"
   ]
  },
  {
   "cell_type": "code",
   "execution_count": null,
   "metadata": {},
   "outputs": [],
   "source": [
    "from sklearn.linear_model import LinearRegression\n",
    "\n",
    "lin_reg = LinearRegression(normalize=True)\n",
    "lin_reg.fit(X_train,y_train)"
   ]
  },
  {
   "cell_type": "code",
   "execution_count": null,
   "metadata": {},
   "outputs": [],
   "source": [
    "print(\"Error/ Accuracy Analysis :- \")\n",
    "print_evaluate(y_train,lin_reg.predict(X_train))"
   ]
  },
  {
   "cell_type": "code",
   "execution_count": null,
   "metadata": {},
   "outputs": [],
   "source": [
    "#sns.jointplot(x=linear,y=y_train, kind='reg')"
   ]
  },
  {
   "cell_type": "code",
   "execution_count": null,
   "metadata": {},
   "outputs": [],
   "source": [
    "# stats.probplot(df1['log_price'], dist=\"norm\", plot=plt)\n",
    "# plt.title(\"Normal Q-Q plot\")\n",
    "# plt.show()"
   ]
  },
  {
   "cell_type": "code",
   "execution_count": null,
   "metadata": {},
   "outputs": [],
   "source": [
    "#set up the 3 models we're choosing from:\n",
    "\n",
    "lm = LinearRegression()\n",
    "\n",
    "#Feature scaling for train, val, and test so that we can run our ridge model on each\n",
    "scaler = StandardScaler()\n",
    "\n",
    "X_train_scaled = scaler.fit_transform(X_train.values)\n",
    "#X_val_scaled = scaler.transform(X_val.values)\n",
    "\n",
    "lm_reg = Ridge(alpha=1)\n",
    "\n",
    "#Feature transforms for train, val, and test so that we can run our poly model on each\n",
    "poly = PolynomialFeatures(degree=2) \n",
    "\n",
    "X_train_poly = poly.fit_transform(X_train.values)\n",
    "#X_val_poly = poly.transform(X_val.values)\n",
    "\n",
    "\n",
    "lm_poly = LinearRegression()"
   ]
  },
  {
   "cell_type": "code",
   "execution_count": null,
   "metadata": {
    "scrolled": true
   },
   "outputs": [],
   "source": [
    "# lm.fit(X_train, y_train)\n",
    "# print(f'Linear Regression val R^2: {lm.score(X_val, y_val):.3f}')\n",
    "\n",
    "# lm_reg.fit(X_train_scaled, y_train)\n",
    "# print(f'Ridge Regression val R^2: {lm_reg.score(X_val_scaled, y_val):.3f}')\n",
    "\n",
    "# lm_poly.fit(X_train_poly, y_train)\n",
    "# print(f'Degree 2 polynomial regression val R^2: {lm_poly.score(X_val_poly, y_val):.3f}')"
   ]
  },
  {
   "cell_type": "code",
   "execution_count": null,
   "metadata": {},
   "outputs": [],
   "source": [
    "lr_model = LinearRegression()\n",
    "lr_model.fit(X_train, y_train)\n",
    "lr_model.score(X_train,y_train)"
   ]
  },
  {
   "cell_type": "code",
   "execution_count": null,
   "metadata": {},
   "outputs": [],
   "source": [
    "lr_model_ridge = Ridge(alpha = 100000000)\n",
    "lr_model_ridge.fit(X_train, y_train)\n",
    "\n",
    "list(zip(X_train, lr_model_ridge.coef_))"
   ]
  },
  {
   "cell_type": "code",
   "execution_count": null,
   "metadata": {},
   "outputs": [],
   "source": [
    "lm_reg.fit(X_train, y_train)\n",
    "print(f'Ridge Regression val R^2: {lm_reg.score(X_train, y_train):.3f}')\n",
    "\n"
   ]
  },
  {
   "cell_type": "code",
   "execution_count": null,
   "metadata": {},
   "outputs": [],
   "source": []
  }
 ],
 "metadata": {
  "kernelspec": {
   "display_name": "Python 3",
   "language": "python",
   "name": "python3"
  },
  "language_info": {
   "codemirror_mode": {
    "name": "ipython",
    "version": 3
   },
   "file_extension": ".py",
   "mimetype": "text/x-python",
   "name": "python",
   "nbconvert_exporter": "python",
   "pygments_lexer": "ipython3",
   "version": "3.8.8"
  }
 },
 "nbformat": 4,
 "nbformat_minor": 4
}
